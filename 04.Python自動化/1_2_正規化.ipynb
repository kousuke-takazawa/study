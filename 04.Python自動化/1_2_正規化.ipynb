{
 "cells": [
  {
   "cell_type": "markdown",
   "metadata": {},
   "source": [
    "# 電話番号とメールアドレスを抽出する\n",
    "・クリップボードからテキストを取得する<br>\n",
    "・テキストから電話番号とメールアドレスを取得する<br>\n",
    "・それをクリップボードにコピーする<br>"
   ]
  },
  {
   "cell_type": "code",
   "execution_count": 5,
   "metadata": {},
   "outputs": [
    {
     "name": "stdout",
     "output_type": "stream",
     "text": [
      "クリップボードにコピーしました：\n",
      "info@nostarch.c\n",
      "media@nostarch.c\n",
      "academic@nostarch.c\n",
      "info@nostarch.c\n"
     ]
    }
   ],
   "source": [
    "import pyperclip, re\n",
    "\n",
    "# 電話番号の正規表現\n",
    "phone_re = re.compile(r'''(\n",
    "   (\\d{1,4}|\\(\\d{1,4}\\))?    # 市外局番\n",
    "   (\\s|-)                    # 区切り\n",
    "   (\\d{1,4})                 # 3桁の番号\n",
    "   (\\s|-)                    # 区切り\n",
    "   (\\d{3,4})                 # 4桁の番号\n",
    "   (\\s*(ext|x|ext.)\\s*(\\d{2,5}))? # 内線番号\n",
    ")''',re.VERBOSE)\n",
    "\n",
    "# メールアドレスの正規表現\n",
    "email_re = re.compile(r'''(\n",
    "   [a-zA-Z0-9._%+-]+    # ユーザ名\n",
    "   @                    # @\n",
    "   [a-zA-Z0-9.-]+       # ドメイン名\n",
    "   (\\.[a-zA-Z{2,4}])    # ドットなんとか\n",
    ")''',re.VERBOSE)\n",
    "\n",
    "# クリップボードのテキストを検索\n",
    "text = str(pyperclip.paste()) # クリップボードから呼び出す\n",
    "matches = [] # 検索結果格納用\n",
    "\n",
    "for groups in phone_re.findall(text):\n",
    "    phone_num = '-'.join([groups[1],gorups[3],groups[5]])\n",
    "    if groups[8] != '':\n",
    "        phone_num += 'x'+groups[8]\n",
    "    matches.append(phone_num)\n",
    "\n",
    "for groups in email_re.findall(text):\n",
    "    matches.append(groups[0])\n",
    "    \n",
    "if len(matches) > 0:\n",
    "    pyperclip.copy('\\n'.join(matches))\n",
    "    print('クリップボードにコピーしました：')\n",
    "    print('\\n'.join(matches))\n",
    "else:\n",
    "    print('見つかりませんでした')"
   ]
  },
  {
   "cell_type": "code",
   "execution_count": null,
   "metadata": {
    "collapsed": true
   },
   "outputs": [],
   "source": []
  }
 ],
 "metadata": {
  "kernelspec": {
   "display_name": "Python 3",
   "language": "python",
   "name": "python3"
  },
  "language_info": {
   "codemirror_mode": {
    "name": "ipython",
    "version": 3
   },
   "file_extension": ".py",
   "mimetype": "text/x-python",
   "name": "python",
   "nbconvert_exporter": "python",
   "pygments_lexer": "ipython3",
   "version": "3.6.1"
  }
 },
 "nbformat": 4,
 "nbformat_minor": 2
}
