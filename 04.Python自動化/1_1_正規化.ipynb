{
 "cells": [
  {
   "cell_type": "markdown",
   "metadata": {},
   "source": [
    "# 正規化の例\n",
    "正規表現オブジェクトを作成してからsearchをする。\n",
    "見つかった場合はその文字列、見つからなかった場合はNoneがかえる"
   ]
  },
  {
   "cell_type": "code",
   "execution_count": 7,
   "metadata": {},
   "outputs": [
    {
     "data": {
      "text/plain": [
       "'000-111-2222'"
      ]
     },
     "execution_count": 7,
     "metadata": {},
     "output_type": "execute_result"
    }
   ],
   "source": [
    "import re\n",
    "phone_re = re.compile(r'\\d\\d\\d-\\d\\d\\d-\\d\\d\\d\\d')\n",
    "mo = phone_re.search('000-111-2222')\n",
    "mo.group()"
   ]
  },
  {
   "cell_type": "markdown",
   "metadata": {},
   "source": [
    "# 記法"
   ]
  },
  {
   "cell_type": "code",
   "execution_count": 8,
   "metadata": {},
   "outputs": [
    {
     "data": {
      "text/plain": [
       "'000'"
      ]
     },
     "execution_count": 8,
     "metadata": {},
     "output_type": "execute_result"
    }
   ],
   "source": [
    "# グループでアクセス\n",
    "phone_re = re.compile(r'(\\d\\d\\d)-(\\d\\d\\d)-(\\d\\d\\d\\d)')\n",
    "mo = phone_re.search('000-111-2222')\n",
    "mo.group(1)"
   ]
  },
  {
   "cell_type": "code",
   "execution_count": 11,
   "metadata": {},
   "outputs": [
    {
     "data": {
      "text/plain": [
       "'111-2222'"
      ]
     },
     "execution_count": 11,
     "metadata": {},
     "output_type": "execute_result"
    }
   ],
   "source": [
    "# or\n",
    "phone_re = re.compile(r'(\\d\\d\\d)-(\\d\\d\\d)-(\\d\\d\\d\\d)|(\\d\\d\\d)-(\\d\\d\\d\\d)')\n",
    "mo = phone_re.search('111-2222')\n",
    "mo.group()"
   ]
  },
  {
   "cell_type": "code",
   "execution_count": null,
   "metadata": {
    "collapsed": true
   },
   "outputs": [],
   "source": [
    "# ? (0か1回)\n",
    "test = re.compile(r'(wo)?man')"
   ]
  },
  {
   "cell_type": "code",
   "execution_count": null,
   "metadata": {
    "collapsed": true
   },
   "outputs": [],
   "source": [
    "# * (0回以上)"
   ]
  },
  {
   "cell_type": "code",
   "execution_count": null,
   "metadata": {
    "collapsed": true
   },
   "outputs": [],
   "source": [
    "# + (1回以上)"
   ]
  },
  {
   "cell_type": "code",
   "execution_count": 12,
   "metadata": {},
   "outputs": [
    {
     "data": {
      "text/plain": [
       "'HaHaHa'"
      ]
     },
     "execution_count": 12,
     "metadata": {},
     "output_type": "execute_result"
    }
   ],
   "source": [
    "# {} (回数指定)\n",
    "ha_re = re.compile(r'(Ha){3}')\n",
    "mo = ha_re.search('HaHaHaHa')\n",
    "mo.group()"
   ]
  },
  {
   "cell_type": "markdown",
   "metadata": {},
   "source": [
    "# findall\n",
    "searchでは最初に見つかったものだけだが、findallは全てを返す"
   ]
  },
  {
   "cell_type": "code",
   "execution_count": 13,
   "metadata": {},
   "outputs": [
    {
     "data": {
      "text/plain": [
       "['415-555-9999', '212-555-0000']"
      ]
     },
     "execution_count": 13,
     "metadata": {},
     "output_type": "execute_result"
    }
   ],
   "source": [
    "# グループ無し\n",
    "phone_re = re.compile(r'\\d\\d\\d-\\d\\d\\d-\\d\\d\\d\\d')\n",
    "phone_re.findall('Cell : 415-555-9999 Work:212-555-0000')"
   ]
  },
  {
   "cell_type": "code",
   "execution_count": 14,
   "metadata": {},
   "outputs": [
    {
     "data": {
      "text/plain": [
       "[('415', '555', '9999'), ('212', '555', '0000')]"
      ]
     },
     "execution_count": 14,
     "metadata": {},
     "output_type": "execute_result"
    }
   ],
   "source": [
    "# グループ無し\n",
    "phone_re = re.compile(r'(\\d\\d\\d)-(\\d\\d\\d)-(\\d\\d\\d\\d)')\n",
    "phone_re.findall('Cell : 415-555-9999 Work:212-555-0000')"
   ]
  },
  {
   "cell_type": "markdown",
   "metadata": {},
   "source": [
    "# 正規表現の定義"
   ]
  },
  {
   "cell_type": "code",
   "execution_count": null,
   "metadata": {
    "collapsed": true
   },
   "outputs": [],
   "source": [
    "# []内のどれか\n",
    "test = re.compile(r'[abcde]')"
   ]
  },
  {
   "cell_type": "code",
   "execution_count": null,
   "metadata": {
    "collapsed": true
   },
   "outputs": [],
   "source": [
    "# 範囲しても可能\n",
    "[a-zA-Z0-9]"
   ]
  },
  {
   "cell_type": "code",
   "execution_count": null,
   "metadata": {
    "collapsed": true
   },
   "outputs": [],
   "source": [
    "# 補集合 (それ以外)\n",
    "[^abcde]"
   ]
  },
  {
   "cell_type": "markdown",
   "metadata": {},
   "source": [
    "# キャレットとドル記号\n",
    "キャレット・・・先頭\n",
    "ドル・・・末尾"
   ]
  },
  {
   "cell_type": "code",
   "execution_count": 22,
   "metadata": {},
   "outputs": [
    {
     "data": {
      "text/plain": [
       "'Hello'"
      ]
     },
     "execution_count": 22,
     "metadata": {},
     "output_type": "execute_result"
    }
   ],
   "source": [
    "import re\n",
    "re = re.compile(r'^Hello')\n",
    "mo = re.search('Hello World')\n",
    "mo.group()"
   ]
  },
  {
   "cell_type": "code",
   "execution_count": 28,
   "metadata": {},
   "outputs": [
    {
     "data": {
      "text/plain": [
       "'World'"
      ]
     },
     "execution_count": 28,
     "metadata": {},
     "output_type": "execute_result"
    }
   ],
   "source": [
    "import re\n",
    "re = re.compile(r'World$')\n",
    "mo = re.search('Hello World')\n",
    "mo.group()"
   ]
  },
  {
   "cell_type": "markdown",
   "metadata": {},
   "source": [
    "# 任意の文字列 ."
   ]
  },
  {
   "cell_type": "code",
   "execution_count": 31,
   "metadata": {},
   "outputs": [
    {
     "data": {
      "text/plain": [
       "['cat', 'hat']"
      ]
     },
     "execution_count": 31,
     "metadata": {},
     "output_type": "execute_result"
    }
   ],
   "source": [
    "import re\n",
    "re = re.compile(r'.at')\n",
    "re.findall('The cat in the hat')"
   ]
  },
  {
   "cell_type": "code",
   "execution_count": 32,
   "metadata": {
    "collapsed": true
   },
   "outputs": [],
   "source": [
    "# (.*)で任意の文字列にヒットする"
   ]
  },
  {
   "cell_type": "markdown",
   "metadata": {},
   "source": [
    "# まとめ\n",
    "● ?は、 直前のグループの0回か1回の出現にマッチする。<br>\n",
    "● *は、 直前のグループの0回以上の出現にマッチする。<br>\n",
    "● +は、 直前のグループの1回以上の出現にマッチする。<br>\n",
    "● {n}は、 直前のグループのn回の出現にマッチする。<br>\n",
    "● {n,}は、 直前のグループのn回以上の出現にマッチする。<br>\n",
    "● {,m}は、 直前のグループの0～m回の出現にマッチする。<br>\n",
    "● {n,m}は、 直前のグループのn～m回の出現にマッチする。<br>\n",
    "● {n,m}?、 *?、 +?は、 直前のグループの非貪欲マッチを行う。<br>\n",
    "● ^spamは、「 spam」 から始まる文字列とマッチする。<br>\n",
    "● spam$は、「 spam」 で終わる文字列とマッチする。<br>\n",
    "●.は、 改行文字以外の任意の1文字とマッチする。<br>\n",
    "● \\d、 \\w、 \\sは、 それぞれ、 数字、 単語を構成する文字、 空白文字にマッチする。<br>\n",
    "● \\D、 \\W、 \\Sは、 それぞれ、 数字、 単語を構成する文字、 空白文字以外の文字にマッ\n",
    "チする。\n",
    "● [abc]は、 角カッコの中の任意の1文字にマッチする（ この例では、「 a」 か「 b」 か\n",
    "「 c」）。<br>\n",
    "● [^abc]は、 角カッコの中の文字以外の任意の1文字にマッチする。<br>"
   ]
  },
  {
   "cell_type": "code",
   "execution_count": null,
   "metadata": {
    "collapsed": true
   },
   "outputs": [],
   "source": []
  }
 ],
 "metadata": {
  "kernelspec": {
   "display_name": "Python 3",
   "language": "python",
   "name": "python3"
  },
  "language_info": {
   "codemirror_mode": {
    "name": "ipython",
    "version": 3
   },
   "file_extension": ".py",
   "mimetype": "text/x-python",
   "name": "python",
   "nbconvert_exporter": "python",
   "pygments_lexer": "ipython3",
   "version": "3.6.1"
  }
 },
 "nbformat": 4,
 "nbformat_minor": 2
}
