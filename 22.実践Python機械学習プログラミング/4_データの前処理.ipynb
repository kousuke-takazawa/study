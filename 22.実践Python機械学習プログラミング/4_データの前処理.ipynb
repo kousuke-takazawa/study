{
 "cells": [
  {
   "cell_type": "markdown",
   "metadata": {
    "collapsed": true
   },
   "source": [
    "# 欠損値"
   ]
  },
  {
   "cell_type": "code",
   "execution_count": 1,
   "metadata": {},
   "outputs": [
    {
     "data": {
      "text/html": [
       "<div>\n",
       "<style>\n",
       "    .dataframe thead tr:only-child th {\n",
       "        text-align: right;\n",
       "    }\n",
       "\n",
       "    .dataframe thead th {\n",
       "        text-align: left;\n",
       "    }\n",
       "\n",
       "    .dataframe tbody tr th {\n",
       "        vertical-align: top;\n",
       "    }\n",
       "</style>\n",
       "<table border=\"1\" class=\"dataframe\">\n",
       "  <thead>\n",
       "    <tr style=\"text-align: right;\">\n",
       "      <th></th>\n",
       "      <th>A</th>\n",
       "      <th>B</th>\n",
       "      <th>C</th>\n",
       "      <th>D</th>\n",
       "    </tr>\n",
       "  </thead>\n",
       "  <tbody>\n",
       "    <tr>\n",
       "      <th>0</th>\n",
       "      <td>1.0</td>\n",
       "      <td>2.0</td>\n",
       "      <td>3.0</td>\n",
       "      <td>4.0</td>\n",
       "    </tr>\n",
       "    <tr>\n",
       "      <th>1</th>\n",
       "      <td>5.0</td>\n",
       "      <td>6.0</td>\n",
       "      <td>NaN</td>\n",
       "      <td>8.0</td>\n",
       "    </tr>\n",
       "    <tr>\n",
       "      <th>2</th>\n",
       "      <td>10.0</td>\n",
       "      <td>11.0</td>\n",
       "      <td>12.0</td>\n",
       "      <td>NaN</td>\n",
       "    </tr>\n",
       "  </tbody>\n",
       "</table>\n",
       "</div>"
      ],
      "text/plain": [
       "      A     B     C    D\n",
       "0   1.0   2.0   3.0  4.0\n",
       "1   5.0   6.0   NaN  8.0\n",
       "2  10.0  11.0  12.0  NaN"
      ]
     },
     "execution_count": 1,
     "metadata": {},
     "output_type": "execute_result"
    }
   ],
   "source": [
    "# 欠損データを作成\n",
    "import pandas as pd\n",
    "from io import StringIO\n",
    "\n",
    "csv_data = '''A,B,C,D\n",
    "1.0,2.0,3.0,4.0\n",
    "5.0,6.0,,8.0\n",
    "10.0,11.0,12.0,'''\n",
    "\n",
    "df = pd.read_csv(StringIO(csv_data))\n",
    "df"
   ]
  },
  {
   "cell_type": "code",
   "execution_count": 2,
   "metadata": {},
   "outputs": [
    {
     "data": {
      "text/plain": [
       "A    0\n",
       "B    0\n",
       "C    1\n",
       "D    1\n",
       "dtype: int64"
      ]
     },
     "execution_count": 2,
     "metadata": {},
     "output_type": "execute_result"
    }
   ],
   "source": [
    "# 各特徴の欠損値の数をカウント\n",
    "df.isnull().sum()"
   ]
  },
  {
   "cell_type": "markdown",
   "metadata": {},
   "source": [
    "# 欠損値の削除\n",
    "※欠損値の削除はデータが減少するためあまり使わない"
   ]
  },
  {
   "cell_type": "code",
   "execution_count": 3,
   "metadata": {},
   "outputs": [
    {
     "data": {
      "text/html": [
       "<div>\n",
       "<style>\n",
       "    .dataframe thead tr:only-child th {\n",
       "        text-align: right;\n",
       "    }\n",
       "\n",
       "    .dataframe thead th {\n",
       "        text-align: left;\n",
       "    }\n",
       "\n",
       "    .dataframe tbody tr th {\n",
       "        vertical-align: top;\n",
       "    }\n",
       "</style>\n",
       "<table border=\"1\" class=\"dataframe\">\n",
       "  <thead>\n",
       "    <tr style=\"text-align: right;\">\n",
       "      <th></th>\n",
       "      <th>A</th>\n",
       "      <th>B</th>\n",
       "      <th>C</th>\n",
       "      <th>D</th>\n",
       "    </tr>\n",
       "  </thead>\n",
       "  <tbody>\n",
       "    <tr>\n",
       "      <th>0</th>\n",
       "      <td>1.0</td>\n",
       "      <td>2.0</td>\n",
       "      <td>3.0</td>\n",
       "      <td>4.0</td>\n",
       "    </tr>\n",
       "  </tbody>\n",
       "</table>\n",
       "</div>"
      ],
      "text/plain": [
       "     A    B    C    D\n",
       "0  1.0  2.0  3.0  4.0"
      ]
     },
     "execution_count": 3,
     "metadata": {},
     "output_type": "execute_result"
    }
   ],
   "source": [
    "# 欠損値を含む行を削除(元データは更新されていない)\n",
    "\n",
    "df.dropna()"
   ]
  },
  {
   "cell_type": "code",
   "execution_count": 6,
   "metadata": {
    "scrolled": true
   },
   "outputs": [
    {
     "data": {
      "text/html": [
       "<div>\n",
       "<style>\n",
       "    .dataframe thead tr:only-child th {\n",
       "        text-align: right;\n",
       "    }\n",
       "\n",
       "    .dataframe thead th {\n",
       "        text-align: left;\n",
       "    }\n",
       "\n",
       "    .dataframe tbody tr th {\n",
       "        vertical-align: top;\n",
       "    }\n",
       "</style>\n",
       "<table border=\"1\" class=\"dataframe\">\n",
       "  <thead>\n",
       "    <tr style=\"text-align: right;\">\n",
       "      <th></th>\n",
       "      <th>A</th>\n",
       "      <th>B</th>\n",
       "    </tr>\n",
       "  </thead>\n",
       "  <tbody>\n",
       "    <tr>\n",
       "      <th>0</th>\n",
       "      <td>1.0</td>\n",
       "      <td>2.0</td>\n",
       "    </tr>\n",
       "    <tr>\n",
       "      <th>1</th>\n",
       "      <td>5.0</td>\n",
       "      <td>6.0</td>\n",
       "    </tr>\n",
       "    <tr>\n",
       "      <th>2</th>\n",
       "      <td>10.0</td>\n",
       "      <td>11.0</td>\n",
       "    </tr>\n",
       "  </tbody>\n",
       "</table>\n",
       "</div>"
      ],
      "text/plain": [
       "      A     B\n",
       "0   1.0   2.0\n",
       "1   5.0   6.0\n",
       "2  10.0  11.0"
      ]
     },
     "execution_count": 6,
     "metadata": {},
     "output_type": "execute_result"
    }
   ],
   "source": [
    "# 欠損値を含む列を削除\n",
    "\n",
    "df.dropna(axis=1)"
   ]
  },
  {
   "cell_type": "markdown",
   "metadata": {},
   "source": [
    "# 欠損値の補完"
   ]
  },
  {
   "cell_type": "code",
   "execution_count": 7,
   "metadata": {},
   "outputs": [
    {
     "data": {
      "text/plain": [
       "array([[  1. ,   2. ,   3. ,   4. ],\n",
       "       [  5. ,   6. ,   7.5,   8. ],\n",
       "       [ 10. ,  11. ,  12. ,   6. ]])"
      ]
     },
     "execution_count": 7,
     "metadata": {},
     "output_type": "execute_result"
    }
   ],
   "source": [
    "# 平均値の補完\n",
    "\n",
    "from sklearn.preprocessing import Imputer\n",
    "\n",
    "imr = Imputer(missing_values='NaN', strategy='mean', axis=0) # 平均値補完のインスタンス作成\n",
    "imr = imr.fit(df) # データを適合\n",
    "imputed_data = imr.transform(df.values) # 補完を実行\n",
    "imputed_data"
   ]
  },
  {
   "cell_type": "markdown",
   "metadata": {},
   "source": [
    "# カテゴリデータの処理\n",
    "color・・・名義特徴量<br>\n",
    "size・・・順序特徴量<br>"
   ]
  },
  {
   "cell_type": "code",
   "execution_count": 8,
   "metadata": {},
   "outputs": [
    {
     "data": {
      "text/html": [
       "<div>\n",
       "<style>\n",
       "    .dataframe thead tr:only-child th {\n",
       "        text-align: right;\n",
       "    }\n",
       "\n",
       "    .dataframe thead th {\n",
       "        text-align: left;\n",
       "    }\n",
       "\n",
       "    .dataframe tbody tr th {\n",
       "        vertical-align: top;\n",
       "    }\n",
       "</style>\n",
       "<table border=\"1\" class=\"dataframe\">\n",
       "  <thead>\n",
       "    <tr style=\"text-align: right;\">\n",
       "      <th></th>\n",
       "      <th>color</th>\n",
       "      <th>size</th>\n",
       "      <th>price</th>\n",
       "      <th>classlabel</th>\n",
       "    </tr>\n",
       "  </thead>\n",
       "  <tbody>\n",
       "    <tr>\n",
       "      <th>0</th>\n",
       "      <td>green</td>\n",
       "      <td>M</td>\n",
       "      <td>10.1</td>\n",
       "      <td>class1</td>\n",
       "    </tr>\n",
       "    <tr>\n",
       "      <th>1</th>\n",
       "      <td>red</td>\n",
       "      <td>L</td>\n",
       "      <td>13.5</td>\n",
       "      <td>class2</td>\n",
       "    </tr>\n",
       "    <tr>\n",
       "      <th>2</th>\n",
       "      <td>blue</td>\n",
       "      <td>XL</td>\n",
       "      <td>15.3</td>\n",
       "      <td>class1</td>\n",
       "    </tr>\n",
       "  </tbody>\n",
       "</table>\n",
       "</div>"
      ],
      "text/plain": [
       "   color size  price classlabel\n",
       "0  green    M   10.1     class1\n",
       "1    red    L   13.5     class2\n",
       "2   blue   XL   15.3     class1"
      ]
     },
     "execution_count": 8,
     "metadata": {},
     "output_type": "execute_result"
    }
   ],
   "source": [
    "import pandas as pd\n",
    "\n",
    "df = pd.DataFrame([['green', 'M', 10.1, 'class1'],\n",
    "                   ['red', 'L', 13.5, 'class2'],\n",
    "                   ['blue', 'XL', 15.3, 'class1']])\n",
    "\n",
    "df.columns = ['color', 'size', 'price', 'classlabel']\n",
    "df"
   ]
  },
  {
   "cell_type": "code",
   "execution_count": 9,
   "metadata": {},
   "outputs": [
    {
     "data": {
      "text/html": [
       "<div>\n",
       "<style>\n",
       "    .dataframe thead tr:only-child th {\n",
       "        text-align: right;\n",
       "    }\n",
       "\n",
       "    .dataframe thead th {\n",
       "        text-align: left;\n",
       "    }\n",
       "\n",
       "    .dataframe tbody tr th {\n",
       "        vertical-align: top;\n",
       "    }\n",
       "</style>\n",
       "<table border=\"1\" class=\"dataframe\">\n",
       "  <thead>\n",
       "    <tr style=\"text-align: right;\">\n",
       "      <th></th>\n",
       "      <th>color</th>\n",
       "      <th>size</th>\n",
       "      <th>price</th>\n",
       "      <th>classlabel</th>\n",
       "    </tr>\n",
       "  </thead>\n",
       "  <tbody>\n",
       "    <tr>\n",
       "      <th>0</th>\n",
       "      <td>green</td>\n",
       "      <td>1</td>\n",
       "      <td>10.1</td>\n",
       "      <td>class1</td>\n",
       "    </tr>\n",
       "    <tr>\n",
       "      <th>1</th>\n",
       "      <td>red</td>\n",
       "      <td>2</td>\n",
       "      <td>13.5</td>\n",
       "      <td>class2</td>\n",
       "    </tr>\n",
       "    <tr>\n",
       "      <th>2</th>\n",
       "      <td>blue</td>\n",
       "      <td>3</td>\n",
       "      <td>15.3</td>\n",
       "      <td>class1</td>\n",
       "    </tr>\n",
       "  </tbody>\n",
       "</table>\n",
       "</div>"
      ],
      "text/plain": [
       "   color  size  price classlabel\n",
       "0  green     1   10.1     class1\n",
       "1    red     2   13.5     class2\n",
       "2   blue     3   15.3     class1"
      ]
     },
     "execution_count": 9,
     "metadata": {},
     "output_type": "execute_result"
    }
   ],
   "source": [
    "# sizeをエンコーディング\n",
    "\n",
    "size_mapping = {'XL': 3,\n",
    "                'L': 2,\n",
    "                'M': 1}\n",
    "\n",
    "df['size'] = df['size'].map(size_mapping)\n",
    "df"
   ]
  },
  {
   "cell_type": "code",
   "execution_count": 10,
   "metadata": {},
   "outputs": [
    {
     "data": {
      "text/plain": [
       "{'class1': 0, 'class2': 1}"
      ]
     },
     "execution_count": 10,
     "metadata": {},
     "output_type": "execute_result"
    }
   ],
   "source": [
    "# classのエンコーディング\n",
    "import numpy as np\n",
    "\n",
    "class_mapping = {label: idx for idx, label in enumerate(np.unique(df['classlabel']))}\n",
    "class_mapping"
   ]
  },
  {
   "cell_type": "code",
   "execution_count": 11,
   "metadata": {},
   "outputs": [
    {
     "data": {
      "text/html": [
       "<div>\n",
       "<style>\n",
       "    .dataframe thead tr:only-child th {\n",
       "        text-align: right;\n",
       "    }\n",
       "\n",
       "    .dataframe thead th {\n",
       "        text-align: left;\n",
       "    }\n",
       "\n",
       "    .dataframe tbody tr th {\n",
       "        vertical-align: top;\n",
       "    }\n",
       "</style>\n",
       "<table border=\"1\" class=\"dataframe\">\n",
       "  <thead>\n",
       "    <tr style=\"text-align: right;\">\n",
       "      <th></th>\n",
       "      <th>color</th>\n",
       "      <th>size</th>\n",
       "      <th>price</th>\n",
       "      <th>classlabel</th>\n",
       "    </tr>\n",
       "  </thead>\n",
       "  <tbody>\n",
       "    <tr>\n",
       "      <th>0</th>\n",
       "      <td>green</td>\n",
       "      <td>1</td>\n",
       "      <td>10.1</td>\n",
       "      <td>0</td>\n",
       "    </tr>\n",
       "    <tr>\n",
       "      <th>1</th>\n",
       "      <td>red</td>\n",
       "      <td>2</td>\n",
       "      <td>13.5</td>\n",
       "      <td>1</td>\n",
       "    </tr>\n",
       "    <tr>\n",
       "      <th>2</th>\n",
       "      <td>blue</td>\n",
       "      <td>3</td>\n",
       "      <td>15.3</td>\n",
       "      <td>0</td>\n",
       "    </tr>\n",
       "  </tbody>\n",
       "</table>\n",
       "</div>"
      ],
      "text/plain": [
       "   color  size  price  classlabel\n",
       "0  green     1   10.1           0\n",
       "1    red     2   13.5           1\n",
       "2   blue     3   15.3           0"
      ]
     },
     "execution_count": 11,
     "metadata": {},
     "output_type": "execute_result"
    }
   ],
   "source": [
    "df['classlabel'] = df['classlabel'].map(class_mapping)\n",
    "df"
   ]
  },
  {
   "cell_type": "code",
   "execution_count": 13,
   "metadata": {},
   "outputs": [
    {
     "data": {
      "text/html": [
       "<div>\n",
       "<style>\n",
       "    .dataframe thead tr:only-child th {\n",
       "        text-align: right;\n",
       "    }\n",
       "\n",
       "    .dataframe thead th {\n",
       "        text-align: left;\n",
       "    }\n",
       "\n",
       "    .dataframe tbody tr th {\n",
       "        vertical-align: top;\n",
       "    }\n",
       "</style>\n",
       "<table border=\"1\" class=\"dataframe\">\n",
       "  <thead>\n",
       "    <tr style=\"text-align: right;\">\n",
       "      <th></th>\n",
       "      <th>color</th>\n",
       "      <th>size</th>\n",
       "      <th>price</th>\n",
       "      <th>classlabel</th>\n",
       "    </tr>\n",
       "  </thead>\n",
       "  <tbody>\n",
       "    <tr>\n",
       "      <th>0</th>\n",
       "      <td>green</td>\n",
       "      <td>1</td>\n",
       "      <td>10.1</td>\n",
       "      <td>class1</td>\n",
       "    </tr>\n",
       "    <tr>\n",
       "      <th>1</th>\n",
       "      <td>red</td>\n",
       "      <td>2</td>\n",
       "      <td>13.5</td>\n",
       "      <td>class2</td>\n",
       "    </tr>\n",
       "    <tr>\n",
       "      <th>2</th>\n",
       "      <td>blue</td>\n",
       "      <td>3</td>\n",
       "      <td>15.3</td>\n",
       "      <td>class1</td>\n",
       "    </tr>\n",
       "  </tbody>\n",
       "</table>\n",
       "</div>"
      ],
      "text/plain": [
       "   color  size  price classlabel\n",
       "0  green     1   10.1     class1\n",
       "1    red     2   13.5     class2\n",
       "2   blue     3   15.3     class1"
      ]
     },
     "execution_count": 13,
     "metadata": {},
     "output_type": "execute_result"
    }
   ],
   "source": [
    "# 一旦戻す\n",
    "inv_class_mapping = {v: k for k, v in class_mapping.items()}\n",
    "df['classlabel'] = df['classlabel'].map(inv_class_mapping)\n",
    "df"
   ]
  },
  {
   "cell_type": "code",
   "execution_count": 14,
   "metadata": {},
   "outputs": [
    {
     "data": {
      "text/plain": [
       "array([0, 1, 0], dtype=int32)"
      ]
     },
     "execution_count": 14,
     "metadata": {},
     "output_type": "execute_result"
    }
   ],
   "source": [
    "# sklのクラスを使う方法もある\n",
    "from sklearn.preprocessing import LabelEncoder\n",
    "\n",
    "class_le = LabelEncoder()\n",
    "y = class_le.fit_transform(df['classlabel'].values)\n",
    "y"
   ]
  },
  {
   "cell_type": "code",
   "execution_count": 16,
   "metadata": {},
   "outputs": [
    {
     "data": {
      "text/plain": [
       "array(['class1', 'class2', 'class1'], dtype=object)"
      ]
     },
     "execution_count": 16,
     "metadata": {},
     "output_type": "execute_result"
    }
   ],
   "source": [
    "class_le.inverse_transform(y)"
   ]
  },
  {
   "cell_type": "code",
   "execution_count": 17,
   "metadata": {},
   "outputs": [
    {
     "data": {
      "text/html": [
       "<div>\n",
       "<style>\n",
       "    .dataframe thead tr:only-child th {\n",
       "        text-align: right;\n",
       "    }\n",
       "\n",
       "    .dataframe thead th {\n",
       "        text-align: left;\n",
       "    }\n",
       "\n",
       "    .dataframe tbody tr th {\n",
       "        vertical-align: top;\n",
       "    }\n",
       "</style>\n",
       "<table border=\"1\" class=\"dataframe\">\n",
       "  <thead>\n",
       "    <tr style=\"text-align: right;\">\n",
       "      <th></th>\n",
       "      <th>color</th>\n",
       "      <th>size</th>\n",
       "      <th>price</th>\n",
       "      <th>classlabel</th>\n",
       "    </tr>\n",
       "  </thead>\n",
       "  <tbody>\n",
       "    <tr>\n",
       "      <th>0</th>\n",
       "      <td>green</td>\n",
       "      <td>1</td>\n",
       "      <td>10.1</td>\n",
       "      <td>class1</td>\n",
       "    </tr>\n",
       "    <tr>\n",
       "      <th>1</th>\n",
       "      <td>red</td>\n",
       "      <td>2</td>\n",
       "      <td>13.5</td>\n",
       "      <td>class2</td>\n",
       "    </tr>\n",
       "    <tr>\n",
       "      <th>2</th>\n",
       "      <td>blue</td>\n",
       "      <td>3</td>\n",
       "      <td>15.3</td>\n",
       "      <td>class1</td>\n",
       "    </tr>\n",
       "  </tbody>\n",
       "</table>\n",
       "</div>"
      ],
      "text/plain": [
       "   color  size  price classlabel\n",
       "0  green     1   10.1     class1\n",
       "1    red     2   13.5     class2\n",
       "2   blue     3   15.3     class1"
      ]
     },
     "execution_count": 17,
     "metadata": {},
     "output_type": "execute_result"
    }
   ],
   "source": [
    "df"
   ]
  },
  {
   "cell_type": "markdown",
   "metadata": {},
   "source": [
    "# one-hotエンコーディング\n",
    "colorを単純に数値に変えると順序がついてしまう。その対応"
   ]
  },
  {
   "cell_type": "code",
   "execution_count": 19,
   "metadata": {},
   "outputs": [
    {
     "data": {
      "text/plain": [
       "array([[1, 1, 10.1],\n",
       "       [2, 2, 13.5],\n",
       "       [0, 3, 15.3]], dtype=object)"
      ]
     },
     "execution_count": 19,
     "metadata": {},
     "output_type": "execute_result"
    }
   ],
   "source": [
    "X = df[['color', 'size', 'price']].values\n",
    "\n",
    "color_le = LabelEncoder()\n",
    "X[:, 0] = color_le.fit_transform(X[:, 0])\n",
    "X"
   ]
  },
  {
   "cell_type": "code",
   "execution_count": 20,
   "metadata": {},
   "outputs": [
    {
     "data": {
      "text/plain": [
       "array([[  0. ,   1. ,   0. ,   1. ,  10.1],\n",
       "       [  0. ,   0. ,   1. ,   2. ,  13.5],\n",
       "       [  1. ,   0. ,   0. ,   3. ,  15.3]])"
      ]
     },
     "execution_count": 20,
     "metadata": {},
     "output_type": "execute_result"
    }
   ],
   "source": [
    "from sklearn.preprocessing import OneHotEncoder\n",
    "\n",
    "ohe = OneHotEncoder(categorical_features=[0])\n",
    "ohe.fit_transform(X).toarray()"
   ]
  },
  {
   "cell_type": "code",
   "execution_count": 21,
   "metadata": {},
   "outputs": [
    {
     "data": {
      "text/html": [
       "<div>\n",
       "<style>\n",
       "    .dataframe thead tr:only-child th {\n",
       "        text-align: right;\n",
       "    }\n",
       "\n",
       "    .dataframe thead th {\n",
       "        text-align: left;\n",
       "    }\n",
       "\n",
       "    .dataframe tbody tr th {\n",
       "        vertical-align: top;\n",
       "    }\n",
       "</style>\n",
       "<table border=\"1\" class=\"dataframe\">\n",
       "  <thead>\n",
       "    <tr style=\"text-align: right;\">\n",
       "      <th></th>\n",
       "      <th>price</th>\n",
       "      <th>size</th>\n",
       "      <th>color_blue</th>\n",
       "      <th>color_green</th>\n",
       "      <th>color_red</th>\n",
       "    </tr>\n",
       "  </thead>\n",
       "  <tbody>\n",
       "    <tr>\n",
       "      <th>0</th>\n",
       "      <td>10.1</td>\n",
       "      <td>1</td>\n",
       "      <td>0</td>\n",
       "      <td>1</td>\n",
       "      <td>0</td>\n",
       "    </tr>\n",
       "    <tr>\n",
       "      <th>1</th>\n",
       "      <td>13.5</td>\n",
       "      <td>2</td>\n",
       "      <td>0</td>\n",
       "      <td>0</td>\n",
       "      <td>1</td>\n",
       "    </tr>\n",
       "    <tr>\n",
       "      <th>2</th>\n",
       "      <td>15.3</td>\n",
       "      <td>3</td>\n",
       "      <td>1</td>\n",
       "      <td>0</td>\n",
       "      <td>0</td>\n",
       "    </tr>\n",
       "  </tbody>\n",
       "</table>\n",
       "</div>"
      ],
      "text/plain": [
       "   price  size  color_blue  color_green  color_red\n",
       "0   10.1     1           0            1          0\n",
       "1   13.5     2           0            0          1\n",
       "2   15.3     3           1            0          0"
      ]
     },
     "execution_count": 21,
     "metadata": {},
     "output_type": "execute_result"
    }
   ],
   "source": [
    "pd.get_dummies(df[['price', 'color', 'size']])"
   ]
  },
  {
   "cell_type": "markdown",
   "metadata": {
    "collapsed": true
   },
   "source": [
    "# トレーニング用とテスト用に分割"
   ]
  },
  {
   "cell_type": "code",
   "execution_count": 3,
   "metadata": {},
   "outputs": [
    {
     "name": "stdout",
     "output_type": "stream",
     "text": [
      "Class labels [1 2 3]\n"
     ]
    },
    {
     "data": {
      "text/html": [
       "<div>\n",
       "<style>\n",
       "    .dataframe thead tr:only-child th {\n",
       "        text-align: right;\n",
       "    }\n",
       "\n",
       "    .dataframe thead th {\n",
       "        text-align: left;\n",
       "    }\n",
       "\n",
       "    .dataframe tbody tr th {\n",
       "        vertical-align: top;\n",
       "    }\n",
       "</style>\n",
       "<table border=\"1\" class=\"dataframe\">\n",
       "  <thead>\n",
       "    <tr style=\"text-align: right;\">\n",
       "      <th></th>\n",
       "      <th>Class label</th>\n",
       "      <th>Alcohol</th>\n",
       "      <th>Malic acid</th>\n",
       "      <th>Ash</th>\n",
       "      <th>Alcalinity of ash</th>\n",
       "      <th>Magnesium</th>\n",
       "      <th>Total phenols</th>\n",
       "      <th>Flavanoids</th>\n",
       "      <th>Nonflavanoid phenols</th>\n",
       "      <th>Proanthocyanins</th>\n",
       "      <th>Color intensity</th>\n",
       "      <th>Hue</th>\n",
       "      <th>OD280/OD315 of diluted wines</th>\n",
       "      <th>Proline</th>\n",
       "    </tr>\n",
       "  </thead>\n",
       "  <tbody>\n",
       "    <tr>\n",
       "      <th>0</th>\n",
       "      <td>1</td>\n",
       "      <td>14.23</td>\n",
       "      <td>1.71</td>\n",
       "      <td>2.43</td>\n",
       "      <td>15.6</td>\n",
       "      <td>127</td>\n",
       "      <td>2.80</td>\n",
       "      <td>3.06</td>\n",
       "      <td>0.28</td>\n",
       "      <td>2.29</td>\n",
       "      <td>5.64</td>\n",
       "      <td>1.04</td>\n",
       "      <td>3.92</td>\n",
       "      <td>1065</td>\n",
       "    </tr>\n",
       "    <tr>\n",
       "      <th>1</th>\n",
       "      <td>1</td>\n",
       "      <td>13.20</td>\n",
       "      <td>1.78</td>\n",
       "      <td>2.14</td>\n",
       "      <td>11.2</td>\n",
       "      <td>100</td>\n",
       "      <td>2.65</td>\n",
       "      <td>2.76</td>\n",
       "      <td>0.26</td>\n",
       "      <td>1.28</td>\n",
       "      <td>4.38</td>\n",
       "      <td>1.05</td>\n",
       "      <td>3.40</td>\n",
       "      <td>1050</td>\n",
       "    </tr>\n",
       "    <tr>\n",
       "      <th>2</th>\n",
       "      <td>1</td>\n",
       "      <td>13.16</td>\n",
       "      <td>2.36</td>\n",
       "      <td>2.67</td>\n",
       "      <td>18.6</td>\n",
       "      <td>101</td>\n",
       "      <td>2.80</td>\n",
       "      <td>3.24</td>\n",
       "      <td>0.30</td>\n",
       "      <td>2.81</td>\n",
       "      <td>5.68</td>\n",
       "      <td>1.03</td>\n",
       "      <td>3.17</td>\n",
       "      <td>1185</td>\n",
       "    </tr>\n",
       "    <tr>\n",
       "      <th>3</th>\n",
       "      <td>1</td>\n",
       "      <td>14.37</td>\n",
       "      <td>1.95</td>\n",
       "      <td>2.50</td>\n",
       "      <td>16.8</td>\n",
       "      <td>113</td>\n",
       "      <td>3.85</td>\n",
       "      <td>3.49</td>\n",
       "      <td>0.24</td>\n",
       "      <td>2.18</td>\n",
       "      <td>7.80</td>\n",
       "      <td>0.86</td>\n",
       "      <td>3.45</td>\n",
       "      <td>1480</td>\n",
       "    </tr>\n",
       "    <tr>\n",
       "      <th>4</th>\n",
       "      <td>1</td>\n",
       "      <td>13.24</td>\n",
       "      <td>2.59</td>\n",
       "      <td>2.87</td>\n",
       "      <td>21.0</td>\n",
       "      <td>118</td>\n",
       "      <td>2.80</td>\n",
       "      <td>2.69</td>\n",
       "      <td>0.39</td>\n",
       "      <td>1.82</td>\n",
       "      <td>4.32</td>\n",
       "      <td>1.04</td>\n",
       "      <td>2.93</td>\n",
       "      <td>735</td>\n",
       "    </tr>\n",
       "  </tbody>\n",
       "</table>\n",
       "</div>"
      ],
      "text/plain": [
       "   Class label  Alcohol  Malic acid   Ash  Alcalinity of ash  Magnesium  \\\n",
       "0            1    14.23        1.71  2.43               15.6        127   \n",
       "1            1    13.20        1.78  2.14               11.2        100   \n",
       "2            1    13.16        2.36  2.67               18.6        101   \n",
       "3            1    14.37        1.95  2.50               16.8        113   \n",
       "4            1    13.24        2.59  2.87               21.0        118   \n",
       "\n",
       "   Total phenols  Flavanoids  Nonflavanoid phenols  Proanthocyanins  \\\n",
       "0           2.80        3.06                  0.28             2.29   \n",
       "1           2.65        2.76                  0.26             1.28   \n",
       "2           2.80        3.24                  0.30             2.81   \n",
       "3           3.85        3.49                  0.24             2.18   \n",
       "4           2.80        2.69                  0.39             1.82   \n",
       "\n",
       "   Color intensity   Hue  OD280/OD315 of diluted wines  Proline  \n",
       "0             5.64  1.04                          3.92     1065  \n",
       "1             4.38  1.05                          3.40     1050  \n",
       "2             5.68  1.03                          3.17     1185  \n",
       "3             7.80  0.86                          3.45     1480  \n",
       "4             4.32  1.04                          2.93      735  "
      ]
     },
     "execution_count": 3,
     "metadata": {},
     "output_type": "execute_result"
    }
   ],
   "source": [
    "# サンプルデータをダウンロード\n",
    "\n",
    "import pandas as pd\n",
    "import numpy as np\n",
    "df_wine = pd.read_csv('https://archive.ics.uci.edu/'\n",
    "                      'ml/machine-learning-databases/wine/wine.data',\n",
    "                      header=None)\n",
    "\n",
    "df_wine.columns = ['Class label', 'Alcohol', 'Malic acid', 'Ash',\n",
    "                   'Alcalinity of ash', 'Magnesium', 'Total phenols',\n",
    "                   'Flavanoids', 'Nonflavanoid phenols', 'Proanthocyanins',\n",
    "                   'Color intensity', 'Hue', 'OD280/OD315 of diluted wines',\n",
    "                   'Proline']\n",
    "\n",
    "print('Class labels', np.unique(df_wine['Class label']))\n",
    "df_wine.head()"
   ]
  },
  {
   "cell_type": "code",
   "execution_count": 4,
   "metadata": {
    "collapsed": true
   },
   "outputs": [],
   "source": [
    "# 分割\n",
    "\n",
    "from sklearn.model_selection import train_test_split\n",
    "X, y = df_wine.iloc[:, 1:].values, df_wine.iloc[:, 0].values # 特徴変数と目的変数に分割\n",
    "X_train, X_test, y_train, y_test = train_test_split(X, y, test_size=0.3, random_state=0) # train,testに分割"
   ]
  },
  {
   "cell_type": "code",
   "execution_count": 5,
   "metadata": {},
   "outputs": [
    {
     "data": {
      "text/plain": [
       "array([[  1.37100000e+01,   1.86000000e+00,   2.36000000e+00, ...,\n",
       "          1.11000000e+00,   4.00000000e+00,   1.03500000e+03],\n",
       "       [  1.22200000e+01,   1.29000000e+00,   1.94000000e+00, ...,\n",
       "          8.60000000e-01,   3.02000000e+00,   3.12000000e+02],\n",
       "       [  1.32700000e+01,   4.28000000e+00,   2.26000000e+00, ...,\n",
       "          5.90000000e-01,   1.56000000e+00,   8.35000000e+02],\n",
       "       ..., \n",
       "       [  1.24200000e+01,   1.61000000e+00,   2.19000000e+00, ...,\n",
       "          1.06000000e+00,   2.96000000e+00,   3.45000000e+02],\n",
       "       [  1.39000000e+01,   1.68000000e+00,   2.12000000e+00, ...,\n",
       "          9.10000000e-01,   3.33000000e+00,   9.85000000e+02],\n",
       "       [  1.41600000e+01,   2.51000000e+00,   2.48000000e+00, ...,\n",
       "          6.20000000e-01,   1.71000000e+00,   6.60000000e+02]])"
      ]
     },
     "execution_count": 5,
     "metadata": {},
     "output_type": "execute_result"
    }
   ],
   "source": [
    "X_train"
   ]
  },
  {
   "cell_type": "code",
   "execution_count": 6,
   "metadata": {},
   "outputs": [
    {
     "data": {
      "text/plain": [
       "array([[  1.37400000e+01,   1.67000000e+00,   2.25000000e+00,\n",
       "          1.64000000e+01,   1.18000000e+02,   2.60000000e+00,\n",
       "          2.90000000e+00,   2.10000000e-01,   1.62000000e+00,\n",
       "          5.85000000e+00,   9.20000000e-01,   3.20000000e+00,\n",
       "          1.06000000e+03],\n",
       "       [  1.27900000e+01,   2.67000000e+00,   2.48000000e+00,\n",
       "          2.20000000e+01,   1.12000000e+02,   1.48000000e+00,\n",
       "          1.36000000e+00,   2.40000000e-01,   1.26000000e+00,\n",
       "          1.08000000e+01,   4.80000000e-01,   1.47000000e+00,\n",
       "          4.80000000e+02],\n",
       "       [  1.23700000e+01,   1.13000000e+00,   2.16000000e+00,\n",
       "          1.90000000e+01,   8.70000000e+01,   3.50000000e+00,\n",
       "          3.10000000e+00,   1.90000000e-01,   1.87000000e+00,\n",
       "          4.45000000e+00,   1.22000000e+00,   2.87000000e+00,\n",
       "          4.20000000e+02],\n",
       "       [  1.35600000e+01,   1.73000000e+00,   2.46000000e+00,\n",
       "          2.05000000e+01,   1.16000000e+02,   2.96000000e+00,\n",
       "          2.78000000e+00,   2.00000000e-01,   2.45000000e+00,\n",
       "          6.25000000e+00,   9.80000000e-01,   3.03000000e+00,\n",
       "          1.12000000e+03],\n",
       "       [  1.30500000e+01,   5.80000000e+00,   2.13000000e+00,\n",
       "          2.15000000e+01,   8.60000000e+01,   2.62000000e+00,\n",
       "          2.65000000e+00,   3.00000000e-01,   2.01000000e+00,\n",
       "          2.60000000e+00,   7.30000000e-01,   3.10000000e+00,\n",
       "          3.80000000e+02],\n",
       "       [  1.15600000e+01,   2.05000000e+00,   3.23000000e+00,\n",
       "          2.85000000e+01,   1.19000000e+02,   3.18000000e+00,\n",
       "          5.08000000e+00,   4.70000000e-01,   1.87000000e+00,\n",
       "          6.00000000e+00,   9.30000000e-01,   3.69000000e+00,\n",
       "          4.65000000e+02],\n",
       "       [  1.40600000e+01,   2.15000000e+00,   2.61000000e+00,\n",
       "          1.76000000e+01,   1.21000000e+02,   2.60000000e+00,\n",
       "          2.51000000e+00,   3.10000000e-01,   1.25000000e+00,\n",
       "          5.05000000e+00,   1.06000000e+00,   3.58000000e+00,\n",
       "          1.29500000e+03],\n",
       "       [  1.23600000e+01,   3.83000000e+00,   2.38000000e+00,\n",
       "          2.10000000e+01,   8.80000000e+01,   2.30000000e+00,\n",
       "          9.20000000e-01,   5.00000000e-01,   1.04000000e+00,\n",
       "          7.65000000e+00,   5.60000000e-01,   1.58000000e+00,\n",
       "          5.20000000e+02],\n",
       "       [  1.22500000e+01,   1.73000000e+00,   2.12000000e+00,\n",
       "          1.90000000e+01,   8.00000000e+01,   1.65000000e+00,\n",
       "          2.03000000e+00,   3.70000000e-01,   1.63000000e+00,\n",
       "          3.40000000e+00,   1.00000000e+00,   3.17000000e+00,\n",
       "          5.10000000e+02],\n",
       "       [  1.20800000e+01,   1.83000000e+00,   2.32000000e+00,\n",
       "          1.85000000e+01,   8.10000000e+01,   1.60000000e+00,\n",
       "          1.50000000e+00,   5.20000000e-01,   1.64000000e+00,\n",
       "          2.40000000e+00,   1.08000000e+00,   2.27000000e+00,\n",
       "          4.80000000e+02],\n",
       "       [  1.33600000e+01,   2.56000000e+00,   2.35000000e+00,\n",
       "          2.00000000e+01,   8.90000000e+01,   1.40000000e+00,\n",
       "          5.00000000e-01,   3.70000000e-01,   6.40000000e-01,\n",
       "          5.60000000e+00,   7.00000000e-01,   2.47000000e+00,\n",
       "          7.80000000e+02],\n",
       "       [  1.38800000e+01,   5.04000000e+00,   2.23000000e+00,\n",
       "          2.00000000e+01,   8.00000000e+01,   9.80000000e-01,\n",
       "          3.40000000e-01,   4.00000000e-01,   6.80000000e-01,\n",
       "          4.90000000e+00,   5.80000000e-01,   1.33000000e+00,\n",
       "          4.15000000e+02],\n",
       "       [  1.42000000e+01,   1.76000000e+00,   2.45000000e+00,\n",
       "          1.52000000e+01,   1.12000000e+02,   3.27000000e+00,\n",
       "          3.39000000e+00,   3.40000000e-01,   1.97000000e+00,\n",
       "          6.75000000e+00,   1.05000000e+00,   2.85000000e+00,\n",
       "          1.45000000e+03],\n",
       "       [  1.23700000e+01,   1.07000000e+00,   2.10000000e+00,\n",
       "          1.85000000e+01,   8.80000000e+01,   3.52000000e+00,\n",
       "          3.75000000e+00,   2.40000000e-01,   1.95000000e+00,\n",
       "          4.50000000e+00,   1.04000000e+00,   2.77000000e+00,\n",
       "          6.60000000e+02],\n",
       "       [  1.35800000e+01,   2.58000000e+00,   2.69000000e+00,\n",
       "          2.45000000e+01,   1.05000000e+02,   1.55000000e+00,\n",
       "          8.40000000e-01,   3.90000000e-01,   1.54000000e+00,\n",
       "          8.66000000e+00,   7.40000000e-01,   1.80000000e+00,\n",
       "          7.50000000e+02],\n",
       "       [  1.20000000e+01,   9.20000000e-01,   2.00000000e+00,\n",
       "          1.90000000e+01,   8.60000000e+01,   2.42000000e+00,\n",
       "          2.26000000e+00,   3.00000000e-01,   1.43000000e+00,\n",
       "          2.50000000e+00,   1.38000000e+00,   3.12000000e+00,\n",
       "          2.78000000e+02],\n",
       "       [  1.37600000e+01,   1.53000000e+00,   2.70000000e+00,\n",
       "          1.95000000e+01,   1.32000000e+02,   2.95000000e+00,\n",
       "          2.74000000e+00,   5.00000000e-01,   1.35000000e+00,\n",
       "          5.40000000e+00,   1.25000000e+00,   3.00000000e+00,\n",
       "          1.23500000e+03],\n",
       "       [  1.41900000e+01,   1.59000000e+00,   2.48000000e+00,\n",
       "          1.65000000e+01,   1.08000000e+02,   3.30000000e+00,\n",
       "          3.93000000e+00,   3.20000000e-01,   1.86000000e+00,\n",
       "          8.70000000e+00,   1.23000000e+00,   2.82000000e+00,\n",
       "          1.68000000e+03],\n",
       "       [  1.26400000e+01,   1.36000000e+00,   2.02000000e+00,\n",
       "          1.68000000e+01,   1.00000000e+02,   2.02000000e+00,\n",
       "          1.41000000e+00,   5.30000000e-01,   6.20000000e-01,\n",
       "          5.75000000e+00,   9.80000000e-01,   1.59000000e+00,\n",
       "          4.50000000e+02],\n",
       "       [  1.38300000e+01,   1.65000000e+00,   2.60000000e+00,\n",
       "          1.72000000e+01,   9.40000000e+01,   2.45000000e+00,\n",
       "          2.99000000e+00,   2.20000000e-01,   2.29000000e+00,\n",
       "          5.60000000e+00,   1.24000000e+00,   3.37000000e+00,\n",
       "          1.26500000e+03],\n",
       "       [  1.31100000e+01,   1.01000000e+00,   1.70000000e+00,\n",
       "          1.50000000e+01,   7.80000000e+01,   2.98000000e+00,\n",
       "          3.18000000e+00,   2.60000000e-01,   2.28000000e+00,\n",
       "          5.30000000e+00,   1.12000000e+00,   3.18000000e+00,\n",
       "          5.02000000e+02],\n",
       "       [  1.30500000e+01,   1.65000000e+00,   2.55000000e+00,\n",
       "          1.80000000e+01,   9.80000000e+01,   2.45000000e+00,\n",
       "          2.43000000e+00,   2.90000000e-01,   1.44000000e+00,\n",
       "          4.25000000e+00,   1.12000000e+00,   2.51000000e+00,\n",
       "          1.10500000e+03],\n",
       "       [  1.32400000e+01,   2.59000000e+00,   2.87000000e+00,\n",
       "          2.10000000e+01,   1.18000000e+02,   2.80000000e+00,\n",
       "          2.69000000e+00,   3.90000000e-01,   1.82000000e+00,\n",
       "          4.32000000e+00,   1.04000000e+00,   2.93000000e+00,\n",
       "          7.35000000e+02],\n",
       "       [  1.25100000e+01,   1.73000000e+00,   1.98000000e+00,\n",
       "          2.05000000e+01,   8.50000000e+01,   2.20000000e+00,\n",
       "          1.92000000e+00,   3.20000000e-01,   1.48000000e+00,\n",
       "          2.94000000e+00,   1.04000000e+00,   3.57000000e+00,\n",
       "          6.72000000e+02],\n",
       "       [  1.23300000e+01,   1.10000000e+00,   2.28000000e+00,\n",
       "          1.60000000e+01,   1.01000000e+02,   2.05000000e+00,\n",
       "          1.09000000e+00,   6.30000000e-01,   4.10000000e-01,\n",
       "          3.27000000e+00,   1.25000000e+00,   1.67000000e+00,\n",
       "          6.80000000e+02],\n",
       "       [  1.25200000e+01,   2.43000000e+00,   2.17000000e+00,\n",
       "          2.10000000e+01,   8.80000000e+01,   2.55000000e+00,\n",
       "          2.27000000e+00,   2.60000000e-01,   1.22000000e+00,\n",
       "          2.00000000e+00,   9.00000000e-01,   2.78000000e+00,\n",
       "          3.25000000e+02],\n",
       "       [  1.24300000e+01,   1.53000000e+00,   2.29000000e+00,\n",
       "          2.15000000e+01,   8.60000000e+01,   2.74000000e+00,\n",
       "          3.15000000e+00,   3.90000000e-01,   1.77000000e+00,\n",
       "          3.94000000e+00,   6.90000000e-01,   2.84000000e+00,\n",
       "          3.52000000e+02],\n",
       "       [  1.21600000e+01,   1.61000000e+00,   2.31000000e+00,\n",
       "          2.28000000e+01,   9.00000000e+01,   1.78000000e+00,\n",
       "          1.69000000e+00,   4.30000000e-01,   1.56000000e+00,\n",
       "          2.45000000e+00,   1.33000000e+00,   2.26000000e+00,\n",
       "          4.95000000e+02],\n",
       "       [  1.17600000e+01,   2.68000000e+00,   2.92000000e+00,\n",
       "          2.00000000e+01,   1.03000000e+02,   1.75000000e+00,\n",
       "          2.03000000e+00,   6.00000000e-01,   1.05000000e+00,\n",
       "          3.80000000e+00,   1.23000000e+00,   2.50000000e+00,\n",
       "          6.07000000e+02],\n",
       "       [  1.37800000e+01,   2.76000000e+00,   2.30000000e+00,\n",
       "          2.20000000e+01,   9.00000000e+01,   1.35000000e+00,\n",
       "          6.80000000e-01,   4.10000000e-01,   1.03000000e+00,\n",
       "          9.58000000e+00,   7.00000000e-01,   1.68000000e+00,\n",
       "          6.15000000e+02],\n",
       "       [  1.33900000e+01,   1.77000000e+00,   2.62000000e+00,\n",
       "          1.61000000e+01,   9.30000000e+01,   2.85000000e+00,\n",
       "          2.94000000e+00,   3.40000000e-01,   1.45000000e+00,\n",
       "          4.80000000e+00,   9.20000000e-01,   3.22000000e+00,\n",
       "          1.19500000e+03],\n",
       "       [  1.42200000e+01,   1.70000000e+00,   2.30000000e+00,\n",
       "          1.63000000e+01,   1.18000000e+02,   3.20000000e+00,\n",
       "          3.00000000e+00,   2.60000000e-01,   2.03000000e+00,\n",
       "          6.38000000e+00,   9.40000000e-01,   3.31000000e+00,\n",
       "          9.70000000e+02],\n",
       "       [  1.20400000e+01,   4.30000000e+00,   2.38000000e+00,\n",
       "          2.20000000e+01,   8.00000000e+01,   2.10000000e+00,\n",
       "          1.75000000e+00,   4.20000000e-01,   1.35000000e+00,\n",
       "          2.60000000e+00,   7.90000000e-01,   2.57000000e+00,\n",
       "          5.80000000e+02],\n",
       "       [  1.42100000e+01,   4.04000000e+00,   2.44000000e+00,\n",
       "          1.89000000e+01,   1.11000000e+02,   2.85000000e+00,\n",
       "          2.65000000e+00,   3.00000000e-01,   1.25000000e+00,\n",
       "          5.24000000e+00,   8.70000000e-01,   3.33000000e+00,\n",
       "          1.08000000e+03],\n",
       "       [  1.48300000e+01,   1.64000000e+00,   2.17000000e+00,\n",
       "          1.40000000e+01,   9.70000000e+01,   2.80000000e+00,\n",
       "          2.98000000e+00,   2.90000000e-01,   1.98000000e+00,\n",
       "          5.20000000e+00,   1.08000000e+00,   2.85000000e+00,\n",
       "          1.04500000e+03],\n",
       "       [  1.30500000e+01,   1.77000000e+00,   2.10000000e+00,\n",
       "          1.70000000e+01,   1.07000000e+02,   3.00000000e+00,\n",
       "          3.00000000e+00,   2.80000000e-01,   2.03000000e+00,\n",
       "          5.04000000e+00,   8.80000000e-01,   3.35000000e+00,\n",
       "          8.85000000e+02],\n",
       "       [  1.36900000e+01,   3.26000000e+00,   2.54000000e+00,\n",
       "          2.00000000e+01,   1.07000000e+02,   1.83000000e+00,\n",
       "          5.60000000e-01,   5.00000000e-01,   8.00000000e-01,\n",
       "          5.88000000e+00,   9.60000000e-01,   1.82000000e+00,\n",
       "          6.80000000e+02],\n",
       "       [  1.26900000e+01,   1.53000000e+00,   2.26000000e+00,\n",
       "          2.07000000e+01,   8.00000000e+01,   1.38000000e+00,\n",
       "          1.46000000e+00,   5.80000000e-01,   1.62000000e+00,\n",
       "          3.05000000e+00,   9.60000000e-01,   2.06000000e+00,\n",
       "          4.95000000e+02],\n",
       "       [  1.16200000e+01,   1.99000000e+00,   2.28000000e+00,\n",
       "          1.80000000e+01,   9.80000000e+01,   3.02000000e+00,\n",
       "          2.26000000e+00,   1.70000000e-01,   1.35000000e+00,\n",
       "          3.25000000e+00,   1.16000000e+00,   2.96000000e+00,\n",
       "          3.45000000e+02],\n",
       "       [  1.34000000e+01,   3.91000000e+00,   2.48000000e+00,\n",
       "          2.30000000e+01,   1.02000000e+02,   1.80000000e+00,\n",
       "          7.50000000e-01,   4.30000000e-01,   1.41000000e+00,\n",
       "          7.30000000e+00,   7.00000000e-01,   1.56000000e+00,\n",
       "          7.50000000e+02],\n",
       "       [  1.35000000e+01,   1.81000000e+00,   2.61000000e+00,\n",
       "          2.00000000e+01,   9.60000000e+01,   2.53000000e+00,\n",
       "          2.61000000e+00,   2.80000000e-01,   1.66000000e+00,\n",
       "          3.52000000e+00,   1.12000000e+00,   3.82000000e+00,\n",
       "          8.45000000e+02],\n",
       "       [  1.37300000e+01,   1.50000000e+00,   2.70000000e+00,\n",
       "          2.25000000e+01,   1.01000000e+02,   3.00000000e+00,\n",
       "          3.25000000e+00,   2.90000000e-01,   2.38000000e+00,\n",
       "          5.70000000e+00,   1.19000000e+00,   2.71000000e+00,\n",
       "          1.28500000e+03],\n",
       "       [  1.22900000e+01,   2.83000000e+00,   2.22000000e+00,\n",
       "          1.80000000e+01,   8.80000000e+01,   2.45000000e+00,\n",
       "          2.25000000e+00,   2.50000000e-01,   1.99000000e+00,\n",
       "          2.15000000e+00,   1.15000000e+00,   3.30000000e+00,\n",
       "          2.90000000e+02],\n",
       "       [  1.26000000e+01,   1.34000000e+00,   1.90000000e+00,\n",
       "          1.85000000e+01,   8.80000000e+01,   1.45000000e+00,\n",
       "          1.36000000e+00,   2.90000000e-01,   1.35000000e+00,\n",
       "          2.45000000e+00,   1.04000000e+00,   2.77000000e+00,\n",
       "          5.62000000e+02],\n",
       "       [  1.14100000e+01,   7.40000000e-01,   2.50000000e+00,\n",
       "          2.10000000e+01,   8.80000000e+01,   2.48000000e+00,\n",
       "          2.01000000e+00,   4.20000000e-01,   1.44000000e+00,\n",
       "          3.08000000e+00,   1.10000000e+00,   2.31000000e+00,\n",
       "          4.34000000e+02],\n",
       "       [  1.36400000e+01,   3.10000000e+00,   2.56000000e+00,\n",
       "          1.52000000e+01,   1.16000000e+02,   2.70000000e+00,\n",
       "          3.03000000e+00,   1.70000000e-01,   1.66000000e+00,\n",
       "          5.10000000e+00,   9.60000000e-01,   3.36000000e+00,\n",
       "          8.45000000e+02],\n",
       "       [  1.26000000e+01,   2.46000000e+00,   2.20000000e+00,\n",
       "          1.85000000e+01,   9.40000000e+01,   1.62000000e+00,\n",
       "          6.60000000e-01,   6.30000000e-01,   9.40000000e-01,\n",
       "          7.10000000e+00,   7.30000000e-01,   1.58000000e+00,\n",
       "          6.95000000e+02],\n",
       "       [  1.19600000e+01,   1.09000000e+00,   2.30000000e+00,\n",
       "          2.10000000e+01,   1.01000000e+02,   3.38000000e+00,\n",
       "          2.14000000e+00,   1.30000000e-01,   1.65000000e+00,\n",
       "          3.21000000e+00,   9.90000000e-01,   3.13000000e+00,\n",
       "          8.86000000e+02],\n",
       "       [  1.22500000e+01,   3.88000000e+00,   2.20000000e+00,\n",
       "          1.85000000e+01,   1.12000000e+02,   1.38000000e+00,\n",
       "          7.80000000e-01,   2.90000000e-01,   1.14000000e+00,\n",
       "          8.21000000e+00,   6.50000000e-01,   2.00000000e+00,\n",
       "          8.55000000e+02],\n",
       "       [  1.43000000e+01,   1.92000000e+00,   2.72000000e+00,\n",
       "          2.00000000e+01,   1.20000000e+02,   2.80000000e+00,\n",
       "          3.14000000e+00,   3.30000000e-01,   1.97000000e+00,\n",
       "          6.20000000e+00,   1.07000000e+00,   2.65000000e+00,\n",
       "          1.28000000e+03],\n",
       "       [  1.28800000e+01,   2.99000000e+00,   2.40000000e+00,\n",
       "          2.00000000e+01,   1.04000000e+02,   1.30000000e+00,\n",
       "          1.22000000e+00,   2.40000000e-01,   8.30000000e-01,\n",
       "          5.40000000e+00,   7.40000000e-01,   1.42000000e+00,\n",
       "          5.30000000e+02],\n",
       "       [  1.34900000e+01,   3.59000000e+00,   2.19000000e+00,\n",
       "          1.95000000e+01,   8.80000000e+01,   1.62000000e+00,\n",
       "          4.80000000e-01,   5.80000000e-01,   8.80000000e-01,\n",
       "          5.70000000e+00,   8.10000000e-01,   1.82000000e+00,\n",
       "          5.80000000e+02],\n",
       "       [  1.35600000e+01,   1.71000000e+00,   2.31000000e+00,\n",
       "          1.62000000e+01,   1.17000000e+02,   3.15000000e+00,\n",
       "          3.29000000e+00,   3.40000000e-01,   2.34000000e+00,\n",
       "          6.13000000e+00,   9.50000000e-01,   3.38000000e+00,\n",
       "          7.95000000e+02],\n",
       "       [  1.43400000e+01,   1.68000000e+00,   2.70000000e+00,\n",
       "          2.50000000e+01,   9.80000000e+01,   2.80000000e+00,\n",
       "          1.31000000e+00,   5.30000000e-01,   2.70000000e+00,\n",
       "          1.30000000e+01,   5.70000000e-01,   1.96000000e+00,\n",
       "          6.60000000e+02]])"
      ]
     },
     "execution_count": 6,
     "metadata": {},
     "output_type": "execute_result"
    }
   ],
   "source": [
    "X_test"
   ]
  },
  {
   "cell_type": "markdown",
   "metadata": {},
   "source": [
    "# 特徴量の尺度を揃える"
   ]
  },
  {
   "cell_type": "code",
   "execution_count": 7,
   "metadata": {
    "collapsed": true
   },
   "outputs": [],
   "source": [
    "# 正規化\n",
    "\n",
    "from sklearn.preprocessing import MinMaxScaler\n",
    "\n",
    "mms = MinMaxScaler()\n",
    "X_train_norm = mms.fit_transform(X_train)\n",
    "X_test_norm = mms.transform(X_test)"
   ]
  },
  {
   "cell_type": "code",
   "execution_count": 8,
   "metadata": {},
   "outputs": [
    {
     "data": {
      "text/plain": [
       "array([[ 0.72043011,  0.20378151,  0.53763441, ...,  0.48717949,\n",
       "         1.        ,  0.5854251 ],\n",
       "       [ 0.31989247,  0.08403361,  0.31182796, ...,  0.27350427,\n",
       "         0.64102564,  0.        ],\n",
       "       [ 0.60215054,  0.71218487,  0.48387097, ...,  0.04273504,\n",
       "         0.10622711,  0.42348178],\n",
       "       ..., \n",
       "       [ 0.37365591,  0.1512605 ,  0.44623656, ...,  0.44444444,\n",
       "         0.61904762,  0.02672065],\n",
       "       [ 0.77150538,  0.16596639,  0.40860215, ...,  0.31623932,\n",
       "         0.75457875,  0.54493927],\n",
       "       [ 0.84139785,  0.34033613,  0.60215054, ...,  0.06837607,\n",
       "         0.16117216,  0.28178138]])"
      ]
     },
     "execution_count": 8,
     "metadata": {},
     "output_type": "execute_result"
    }
   ],
   "source": [
    "X_train_norm"
   ]
  },
  {
   "cell_type": "code",
   "execution_count": 9,
   "metadata": {
    "collapsed": true
   },
   "outputs": [],
   "source": [
    "# 標準化\n",
    "\n",
    "from sklearn.preprocessing import StandardScaler\n",
    "\n",
    "stdsc = StandardScaler()\n",
    "X_train_std = stdsc.fit_transform(X_train)\n",
    "X_test_std = stdsc.transform(X_test)"
   ]
  },
  {
   "cell_type": "code",
   "execution_count": 10,
   "metadata": {
    "scrolled": true
   },
   "outputs": [
    {
     "data": {
      "text/plain": [
       "array([[ 0.91083058, -0.46259897, -0.01142613, ...,  0.65706596,\n",
       "         1.94354495,  0.93700997],\n",
       "       [-0.95609928, -0.96608672, -1.53725357, ..., -0.40859506,\n",
       "         0.58118003, -1.41336684],\n",
       "       [ 0.35952243,  1.67501572, -0.37471838, ..., -1.55950896,\n",
       "        -1.44846566,  0.28683658],\n",
       "       ..., \n",
       "       [-0.70550467, -0.68342693, -0.62902295, ...,  0.44393375,\n",
       "         0.49776993, -1.30608823],\n",
       "       [ 1.14889546, -0.6215951 , -0.88332752, ..., -0.19546286,\n",
       "         1.0121322 ,  0.77446662],\n",
       "       [ 1.47466845,  0.11155374,  0.42452457, ..., -1.43162964,\n",
       "        -1.23994042, -0.28206514]])"
      ]
     },
     "execution_count": 10,
     "metadata": {},
     "output_type": "execute_result"
    }
   ],
   "source": [
    "X_train_std"
   ]
  },
  {
   "cell_type": "code",
   "execution_count": 11,
   "metadata": {},
   "outputs": [
    {
     "data": {
      "text/html": [
       "<div>\n",
       "<style>\n",
       "    .dataframe thead tr:only-child th {\n",
       "        text-align: right;\n",
       "    }\n",
       "\n",
       "    .dataframe thead th {\n",
       "        text-align: left;\n",
       "    }\n",
       "\n",
       "    .dataframe tbody tr th {\n",
       "        vertical-align: top;\n",
       "    }\n",
       "</style>\n",
       "<table border=\"1\" class=\"dataframe\">\n",
       "  <thead>\n",
       "    <tr style=\"text-align: right;\">\n",
       "      <th></th>\n",
       "      <th>input</th>\n",
       "      <th>standardized</th>\n",
       "      <th>normalized</th>\n",
       "    </tr>\n",
       "  </thead>\n",
       "  <tbody>\n",
       "    <tr>\n",
       "      <th>0</th>\n",
       "      <td>0</td>\n",
       "      <td>-1.46385</td>\n",
       "      <td>0.0</td>\n",
       "    </tr>\n",
       "    <tr>\n",
       "      <th>1</th>\n",
       "      <td>1</td>\n",
       "      <td>-0.87831</td>\n",
       "      <td>0.2</td>\n",
       "    </tr>\n",
       "    <tr>\n",
       "      <th>2</th>\n",
       "      <td>2</td>\n",
       "      <td>-0.29277</td>\n",
       "      <td>0.4</td>\n",
       "    </tr>\n",
       "    <tr>\n",
       "      <th>3</th>\n",
       "      <td>3</td>\n",
       "      <td>0.29277</td>\n",
       "      <td>0.6</td>\n",
       "    </tr>\n",
       "    <tr>\n",
       "      <th>4</th>\n",
       "      <td>4</td>\n",
       "      <td>0.87831</td>\n",
       "      <td>0.8</td>\n",
       "    </tr>\n",
       "    <tr>\n",
       "      <th>5</th>\n",
       "      <td>5</td>\n",
       "      <td>1.46385</td>\n",
       "      <td>1.0</td>\n",
       "    </tr>\n",
       "  </tbody>\n",
       "</table>\n",
       "</div>"
      ],
      "text/plain": [
       "   input  standardized  normalized\n",
       "0      0      -1.46385         0.0\n",
       "1      1      -0.87831         0.2\n",
       "2      2      -0.29277         0.4\n",
       "3      3       0.29277         0.6\n",
       "4      4       0.87831         0.8\n",
       "5      5       1.46385         1.0"
      ]
     },
     "execution_count": 11,
     "metadata": {},
     "output_type": "execute_result"
    }
   ],
   "source": [
    "# 正規化と標準化の例\n",
    "\n",
    "ex = pd.DataFrame([0, 1, 2, 3, 4, 5])\n",
    "\n",
    "# standardize\n",
    "ex[1] = (ex[0] - ex[0].mean()) / ex[0].std(ddof=0)\n",
    "\n",
    "# normalize\n",
    "ex[2] = (ex[0] - ex[0].min()) / (ex[0].max() - ex[0].min())\n",
    "ex.columns = ['input', 'standardized', 'normalized']\n",
    "ex"
   ]
  },
  {
   "cell_type": "markdown",
   "metadata": {},
   "source": [
    "# 特徴量の選択"
   ]
  },
  {
   "cell_type": "markdown",
   "metadata": {},
   "source": [
    "### L1正則化・・・重みを小さくし、トレーニングデータへの依存を減らす"
   ]
  },
  {
   "cell_type": "code",
   "execution_count": 13,
   "metadata": {},
   "outputs": [
    {
     "name": "stdout",
     "output_type": "stream",
     "text": [
      "Training accuracy: 0.983870967742\n",
      "Test accuracy: 0.981481481481\n"
     ]
    }
   ],
   "source": [
    "# ロジスティック回帰のL1正則化　→　トレーニングデータもテストデータも同じくらいの確率\n",
    "\n",
    "from sklearn.linear_model import LogisticRegression\n",
    "\n",
    "lr = LogisticRegression(penalty='l1', C=0.1)\n",
    "lr.fit(X_train_std, y_train)\n",
    "print('Training accuracy:', lr.score(X_train_std, y_train))\n",
    "print('Test accuracy:', lr.score(X_test_std, y_test))"
   ]
  },
  {
   "cell_type": "code",
   "execution_count": 14,
   "metadata": {},
   "outputs": [
    {
     "data": {
      "image/png": "[encoded data removed]",
      "text/plain": [
       "<matplotlib.figure.Figure at 0xb3b28b0>"
      ]
     },
     "metadata": {},
     "output_type": "display_data"
    }
   ],
   "source": [
    "# 正則化を強めると（C<0）重みが０になることがわかる\n",
    "\n",
    "import matplotlib.pyplot as plt\n",
    "\n",
    "fig = plt.figure()\n",
    "ax = plt.subplot(111)\n",
    "    \n",
    "colors = ['blue', 'green', 'red', 'cyan', \n",
    "          'magenta', 'yellow', 'black', \n",
    "          'pink', 'lightgreen', 'lightblue', \n",
    "          'gray', 'indigo', 'orange']\n",
    "\n",
    "weights, params = [], []\n",
    "for c in np.arange(-4., 6.):\n",
    "    lr = LogisticRegression(penalty='l1', C=10.**c, random_state=0)\n",
    "    lr.fit(X_train_std, y_train)\n",
    "    weights.append(lr.coef_[1])\n",
    "    params.append(10.**c)\n",
    "\n",
    "weights = np.array(weights)\n",
    "\n",
    "for column, color in zip(range(weights.shape[1]), colors):\n",
    "    plt.plot(params, weights[:, column],\n",
    "             label=df_wine.columns[column + 1],\n",
    "             color=color)\n",
    "plt.axhline(0, color='black', linestyle='--', linewidth=3)\n",
    "plt.xlim([10**(-5), 10**5])\n",
    "plt.ylabel('weight coefficient')\n",
    "plt.xlabel('C')\n",
    "plt.xscale('log')\n",
    "plt.legend(loc='upper left')\n",
    "ax.legend(loc='upper center', \n",
    "          bbox_to_anchor=(1.38, 1.03),\n",
    "          ncol=1, fancybox=True)\n",
    "# plt.savefig('./figures/l1_path.png', dpi=300)\n",
    "plt.show()"
   ]
  },
  {
   "cell_type": "markdown",
   "metadata": {},
   "source": [
    "### 逐次特徴選択\n",
    "特徴量全体から特徴量を逐次的に削除していく\n",
    "sklに実装されていないため省略"
   ]
  },
  {
   "cell_type": "markdown",
   "metadata": {},
   "source": [
    "### ランダムフォレスト\n",
    "sklを使うと特徴量を重要度順に並べてくれる。しかも、特徴量の正規化・標準化は不要"
   ]
  },
  {
   "cell_type": "code",
   "execution_count": 16,
   "metadata": {
    "scrolled": true
   },
   "outputs": [
    {
     "name": "stdout",
     "output_type": "stream",
     "text": [
      " 1) Color intensity                0.182483\n",
      " 2) Proline                        0.158610\n",
      " 3) Flavanoids                     0.150948\n",
      " 4) OD280/OD315 of diluted wines   0.131987\n",
      " 5) Alcohol                        0.106589\n",
      " 6) Hue                            0.078243\n",
      " 7) Total phenols                  0.060718\n",
      " 8) Alcalinity of ash              0.032033\n",
      " 9) Malic acid                     0.025400\n",
      "10) Proanthocyanins                0.022351\n",
      "11) Magnesium                      0.022078\n",
      "12) Nonflavanoid phenols           0.014645\n",
      "13) Ash                            0.013916\n"
     ]
    },
    {
     "data": {
      "image/png": "[encoded data removed]",
      "text/plain": [
       "<matplotlib.figure.Figure at 0xd692db0>"
      ]
     },
     "metadata": {},
     "output_type": "display_data"
    }
   ],
   "source": [
    "from sklearn.ensemble import RandomForestClassifier\n",
    "\n",
    "feat_labels = df_wine.columns[1:] # 特徴量の名称\n",
    "\n",
    "forest = RandomForestClassifier(n_estimators=10000,\n",
    "                                random_state=0,\n",
    "                                n_jobs=-1)\n",
    "\n",
    "forest.fit(X_train, y_train)\n",
    "importances = forest.feature_importances_ # 特徴量の重要度を抽出\n",
    "\n",
    "indices = np.argsort(importances)[::-1] # 重要度の降順で特徴量のインデックスを抽出\n",
    "\n",
    "for f in range(X_train.shape[1]):\n",
    "    print(\"%2d) %-*s %f\" % (f + 1, 30, \n",
    "                            feat_labels[indices[f]], \n",
    "                            importances[indices[f]]))\n",
    "\n",
    "# チャートで描画\n",
    "plt.title('Feature Importances')\n",
    "plt.bar(range(X_train.shape[1]), \n",
    "        importances[indices],\n",
    "        color='lightblue', \n",
    "        align='center')\n",
    "\n",
    "plt.xticks(range(X_train.shape[1]), \n",
    "           feat_labels[indices], rotation=90)\n",
    "plt.xlim([-1, X_train.shape[1]])\n",
    "plt.tight_layout()\n",
    "#plt.savefig('./random_forest.png', dpi=300)\n",
    "plt.show()"
   ]
  },
  {
   "cell_type": "code",
   "execution_count": 18,
   "metadata": {},
   "outputs": [],
   "source": [
    "# 重要度が0.15以上の特徴のみ抽出\n",
    "from sklearn.feature_selection import SelectFromModel\n",
    "sfm = SelectFromModel(forest, threshold=0.15, prefit=True)\n",
    "X_selected = sfm.transform(X_train)"
   ]
  },
  {
   "cell_type": "code",
   "execution_count": 20,
   "metadata": {},
   "outputs": [
    {
     "data": {
      "text/plain": [
       "(124, 3)"
      ]
     },
     "execution_count": 20,
     "metadata": {},
     "output_type": "execute_result"
    }
   ],
   "source": [
    "X_selected.shape"
   ]
  },
  {
   "cell_type": "code",
   "execution_count": null,
   "metadata": {
    "collapsed": true
   },
   "outputs": [],
   "source": []
  }
 ],
 "metadata": {
  "kernelspec": {
   "display_name": "Python 3",
   "language": "python",
   "name": "python3"
  },
  "language_info": {
   "codemirror_mode": {
    "name": "ipython",
    "version": 3
   },
   "file_extension": ".py",
   "mimetype": "text/x-python",
   "name": "python",
   "nbconvert_exporter": "python",
   "pygments_lexer": "ipython3",
   "version": "3.6.1"
  }
 },
 "nbformat": 4,
 "nbformat_minor": 2
}
