{
 "cells": [
  {
   "cell_type": "markdown",
   "metadata": {},
   "source": [
    "# 型チェック(isinstance)"
   ]
  },
  {
   "cell_type": "code",
   "execution_count": 1,
   "metadata": {},
   "outputs": [
    {
     "name": "stdout",
     "output_type": "stream",
     "text": [
      "True\n"
     ]
    }
   ],
   "source": [
    "print(isinstance('hello',str))"
   ]
  },
  {
   "cell_type": "code",
   "execution_count": 2,
   "metadata": {},
   "outputs": [
    {
     "name": "stdout",
     "output_type": "stream",
     "text": [
      "False\n"
     ]
    }
   ],
   "source": [
    "print(isinstance('hello',list))"
   ]
  },
  {
   "cell_type": "markdown",
   "metadata": {},
   "source": [
    "# 属性の有無チェック(hasattr)"
   ]
  },
  {
   "cell_type": "code",
   "execution_count": 8,
   "metadata": {},
   "outputs": [
    {
     "name": "stdout",
     "output_type": "stream",
     "text": [
      "True\n"
     ]
    }
   ],
   "source": [
    "class Test():\n",
    "    def __init__(self):\n",
    "        self.code = 1\n",
    "\n",
    "test = Test()\n",
    "test.name = 'aa'\n",
    "\n",
    "print(hasattr(test,'name'))"
   ]
  },
  {
   "cell_type": "code",
   "execution_count": 9,
   "metadata": {},
   "outputs": [
    {
     "name": "stdout",
     "output_type": "stream",
     "text": [
      "False\n"
     ]
    }
   ],
   "source": [
    "print(hasattr(test,'aa'))"
   ]
  },
  {
   "cell_type": "markdown",
   "metadata": {},
   "source": [
    "# 呼び出し可能チェック(callable)"
   ]
  },
  {
   "cell_type": "code",
   "execution_count": 11,
   "metadata": {},
   "outputs": [
    {
     "name": "stdout",
     "output_type": "stream",
     "text": [
      "True\n"
     ]
    }
   ],
   "source": [
    "def test():\n",
    "    print('aaa')\n",
    "\n",
    "print(callable(test))"
   ]
  },
  {
   "cell_type": "markdown",
   "metadata": {},
   "source": [
    "# 最小値、最大値"
   ]
  },
  {
   "cell_type": "code",
   "execution_count": 12,
   "metadata": {},
   "outputs": [
    {
     "name": "stdout",
     "output_type": "stream",
     "text": [
      "A\n"
     ]
    }
   ],
   "source": [
    "print(min('Z','A'))"
   ]
  },
  {
   "cell_type": "code",
   "execution_count": 13,
   "metadata": {},
   "outputs": [
    {
     "name": "stdout",
     "output_type": "stream",
     "text": [
      "0\n"
     ]
    }
   ],
   "source": [
    "print(min([1,0]))"
   ]
  },
  {
   "cell_type": "code",
   "execution_count": 14,
   "metadata": {
    "collapsed": true
   },
   "outputs": [],
   "source": [
    "# maxも同じような使い方のため省略"
   ]
  },
  {
   "cell_type": "markdown",
   "metadata": {
    "collapsed": true
   },
   "source": [
    "# key引数\n",
    "ソート時に利用する関数を指定することができる"
   ]
  },
  {
   "cell_type": "code",
   "execution_count": 1,
   "metadata": {},
   "outputs": [
    {
     "name": "stdout",
     "output_type": "stream",
     "text": [
      "5\n"
     ]
    }
   ],
   "source": [
    "def toInt(n):\n",
    "    return int(n)\n",
    "\n",
    "list = [2,3,4,'5']\n",
    "\n",
    "print(max(list, key=toInt)) # intに変換した上でmaxしている"
   ]
  },
  {
   "cell_type": "code",
   "execution_count": 2,
   "metadata": {},
   "outputs": [
    {
     "name": "stdout",
     "output_type": "stream",
     "text": [
      "5\n"
     ]
    }
   ],
   "source": [
    "# 簡単に以下のような書き方もできる\n",
    "\n",
    "print(max(list, key=int))"
   ]
  },
  {
   "cell_type": "code",
   "execution_count": 3,
   "metadata": {},
   "outputs": [
    {
     "name": "stdout",
     "output_type": "stream",
     "text": [
      "(1, 'Python', 100)\n"
     ]
    }
   ],
   "source": [
    "# 要素のインデックスを指定して比較することもできる\n",
    "def func(n):\n",
    "    return n[2] # インデックス2の要素を返す\n",
    "\n",
    "list = [(1, 'Python', 100), (2, 'Ruby', 80), (3, 'Perl', 40)]\n",
    "\n",
    "print(max(list, key=func))"
   ]
  },
  {
   "cell_type": "markdown",
   "metadata": {},
   "source": [
    "# 合計(sum)"
   ]
  },
  {
   "cell_type": "code",
   "execution_count": 4,
   "metadata": {},
   "outputs": [
    {
     "name": "stdout",
     "output_type": "stream",
     "text": [
      "10\n"
     ]
    }
   ],
   "source": [
    "num = [1,2,3,4]\n",
    "print(sum(num))"
   ]
  },
  {
   "cell_type": "code",
   "execution_count": 5,
   "metadata": {},
   "outputs": [
    {
     "name": "stdout",
     "output_type": "stream",
     "text": [
      "['In', 'Out', '_', '__', '___', '__builtin__', '__builtins__', '__doc__', '__loader__', '__name__', '__package__', '__spec__', '_dh', '_i', '_i1', '_i2', '_i3', '_i4', '_i5', '_ih', '_ii', '_iii', '_oh', '_sh', 'exit', 'func', 'get_ipython', 'list', 'num', 'quit', 'toInt']\n"
     ]
    }
   ],
   "source": [
    "print(dir())"
   ]
  },
  {
   "cell_type": "markdown",
   "metadata": {},
   "source": [
    "# セパレータ取得(sep)\n",
    "各環境に応じたセパレータを確認することができる"
   ]
  },
  {
   "cell_type": "code",
   "execution_count": 7,
   "metadata": {},
   "outputs": [
    {
     "name": "stdout",
     "output_type": "stream",
     "text": [
      "\\\n"
     ]
    }
   ],
   "source": [
    "import os\n",
    "print(os.sep) # ファイル"
   ]
  },
  {
   "cell_type": "code",
   "execution_count": 8,
   "metadata": {},
   "outputs": [
    {
     "name": "stdout",
     "output_type": "stream",
     "text": [
      ";\n"
     ]
    }
   ],
   "source": [
    "print(os.pathsep) # 環境変数"
   ]
  },
  {
   "cell_type": "code",
   "execution_count": 9,
   "metadata": {},
   "outputs": [
    {
     "name": "stdout",
     "output_type": "stream",
     "text": [
      ".\n"
     ]
    }
   ],
   "source": [
    "print(os.extsep) # 拡張子"
   ]
  },
  {
   "cell_type": "markdown",
   "metadata": {},
   "source": [
    "# 改行コードの取得(linesep)"
   ]
  },
  {
   "cell_type": "code",
   "execution_count": 10,
   "metadata": {},
   "outputs": [
    {
     "name": "stdout",
     "output_type": "stream",
     "text": [
      "aa\r\n",
      "bb\n"
     ]
    }
   ],
   "source": [
    "import os\n",
    "str = 'aa.bb'\n",
    "print(str.replace('.', os.linesep))"
   ]
  },
  {
   "cell_type": "markdown",
   "metadata": {},
   "source": [
    "# 環境変数を取得(environ)"
   ]
  },
  {
   "cell_type": "code",
   "execution_count": 11,
   "metadata": {},
   "outputs": [
    {
     "name": "stdout",
     "output_type": "stream",
     "text": [
      "ALLUSERSPROFILE\n",
      "APPDATA\n",
      "COMMONPROGRAMFILES\n",
      "COMPUTERNAME\n",
      "COMSPEC\n",
      "CONDA_DEFAULT_ENV\n",
      "CONDA_PS1_BACKUP\n",
      "CONDA_ROOT\n",
      "FP_NO_HOST_CHECK\n",
      "HOMEDRIVE\n",
      "HOMEPATH\n",
      "LOCALAPPDATA\n",
      "LOGONSERVER\n",
      "NUMBER_OF_PROCESSORS\n",
      "OS\n",
      "PATH\n",
      "PATHEXT\n",
      "PROCESSOR_ARCHITECTURE\n",
      "PROCESSOR_IDENTIFIER\n",
      "PROCESSOR_LEVEL\n",
      "PROCESSOR_REVISION\n",
      "PROGRAMDATA\n",
      "PROGRAMFILES\n",
      "PROMPT\n",
      "PSMODULEPATH\n",
      "PUBLIC\n",
      "SESSIONNAME\n",
      "SYSTEMDRIVE\n",
      "SYSTEMROOT\n",
      "TEMP\n",
      "TMP\n",
      "UOIPME_REG_PATH\n",
      "USERDNSDOMAIN\n",
      "USERDOMAIN\n",
      "USERNAME\n",
      "USERPROFILE\n",
      "WINDIR\n",
      "WINDOWS_TRACING_FLAGS\n",
      "WINDOWS_TRACING_LOGFILE\n",
      "CONDA_PREFIX\n",
      "JPY_INTERRUPT_EVENT\n",
      "IPY_INTERRUPT_EVENT\n",
      "JPY_PARENT_PID\n",
      "TERM\n",
      "CLICOLOR\n",
      "PAGER\n",
      "GIT_PAGER\n",
      "MPLBACKEND\n"
     ]
    }
   ],
   "source": [
    "import os\n",
    "\n",
    "for env in os.environ:\n",
    "    print(env)"
   ]
  },
  {
   "cell_type": "markdown",
   "metadata": {},
   "source": [
    "# 乱数値生成(random)"
   ]
  },
  {
   "cell_type": "code",
   "execution_count": 13,
   "metadata": {},
   "outputs": [
    {
     "name": "stdout",
     "output_type": "stream",
     "text": [
      "0.716181632698901\n"
     ]
    }
   ],
   "source": [
    "import random\n",
    "print(random.random()) # 0-1"
   ]
  },
  {
   "cell_type": "code",
   "execution_count": 14,
   "metadata": {},
   "outputs": [
    {
     "name": "stdout",
     "output_type": "stream",
     "text": [
      "44.57994318929124\n"
     ]
    }
   ],
   "source": [
    "print(random.uniform(1,100)) # x-yのfloat"
   ]
  },
  {
   "cell_type": "code",
   "execution_count": 15,
   "metadata": {},
   "outputs": [
    {
     "name": "stdout",
     "output_type": "stream",
     "text": [
      "48\n"
     ]
    }
   ],
   "source": [
    "print(random.randint(1,100)) # x-yのint"
   ]
  },
  {
   "cell_type": "code",
   "execution_count": 16,
   "metadata": {},
   "outputs": [
    {
     "name": "stdout",
     "output_type": "stream",
     "text": [
      "d\n"
     ]
    }
   ],
   "source": [
    "print(random.choice('abcdef')) # どれかを選択"
   ]
  },
  {
   "cell_type": "code",
   "execution_count": 18,
   "metadata": {},
   "outputs": [
    {
     "name": "stdout",
     "output_type": "stream",
     "text": [
      "['b', 'c', 'a']\n"
     ]
    }
   ],
   "source": [
    "list = ['a','b','c']\n",
    "random.shuffle(list) # シャッフル\n",
    "print(list)"
   ]
  },
  {
   "cell_type": "code",
   "execution_count": null,
   "metadata": {
    "collapsed": true
   },
   "outputs": [],
   "source": []
  }
 ],
 "metadata": {
  "kernelspec": {
   "display_name": "Python 3",
   "language": "python",
   "name": "python3"
  },
  "language_info": {
   "codemirror_mode": {
    "name": "ipython",
    "version": 3
   },
   "file_extension": ".py",
   "mimetype": "text/x-python",
   "name": "python",
   "nbconvert_exporter": "python",
   "pygments_lexer": "ipython3",
   "version": "3.6.1"
  }
 },
 "nbformat": 4,
 "nbformat_minor": 2
}
