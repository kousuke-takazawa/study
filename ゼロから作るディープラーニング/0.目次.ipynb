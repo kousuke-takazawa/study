{
 "cells": [
  {
   "cell_type": "markdown",
   "metadata": {},
   "source": [
    "# １章　Python入門\n",
    "プログラミング言語としてのPythonの説明なので省略\n",
    "# ２章　パーセプトロン\n",
    "# ３章　ニューラルネットワーク\n",
    "# ４章　ニューラルネットワークの学習\n",
    "# ５章　誤差逆伝播法\n",
    "# ６章　学習に関するテクニック\n",
    "# ７章　畳み込みニューラルネットワーク\n",
    "# ８章　ディープラーニング"
   ]
  },
  {
   "cell_type": "code",
   "execution_count": null,
   "metadata": {
    "collapsed": true
   },
   "outputs": [],
   "source": []
  }
 ],
 "metadata": {
  "kernelspec": {
   "display_name": "Python 3",
   "language": "python",
   "name": "python3"
  },
  "language_info": {
   "codemirror_mode": {
    "name": "ipython",
    "version": 3
   },
   "file_extension": ".py",
   "mimetype": "text/x-python",
   "name": "python",
   "nbconvert_exporter": "python",
   "pygments_lexer": "ipython3",
   "version": "3.6.1"
  }
 },
 "nbformat": 4,
 "nbformat_minor": 2
}
