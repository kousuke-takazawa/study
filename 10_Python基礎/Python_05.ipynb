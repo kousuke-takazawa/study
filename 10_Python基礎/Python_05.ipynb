{
 "cells": [
  {
   "cell_type": "markdown",
   "metadata": {},
   "source": [
    "# 関数"
   ]
  },
  {
   "cell_type": "code",
   "execution_count": 2,
   "metadata": {},
   "outputs": [
    {
     "name": "stdout",
     "output_type": "stream",
     "text": [
      "140\n"
     ]
    }
   ],
   "source": [
    "def test(num1,num2,num3=1): # 引数には初期値をセットできる\n",
    "    \n",
    "    if num3==1:\n",
    "        print(num1 + num2)\n",
    "        \n",
    "test(100,40)"
   ]
  },
  {
   "cell_type": "markdown",
   "metadata": {},
   "source": [
    "# クラス"
   ]
  },
  {
   "cell_type": "code",
   "execution_count": 9,
   "metadata": {},
   "outputs": [
    {
     "data": {
      "text/plain": [
       "'name'"
      ]
     },
     "execution_count": 9,
     "metadata": {},
     "output_type": "execute_result"
    }
   ],
   "source": [
    "class Test:\n",
    "    \n",
    "    def __init__(self, code, name): # 初期化メソッド（必ず実行される）selfは必須\n",
    "        self.code = code\n",
    "        self.name = name\n",
    "\n",
    "testClass = Test(1,'name')\n",
    "testClass.name"
   ]
  },
  {
   "cell_type": "markdown",
   "metadata": {},
   "source": [
    "# クラスの継承"
   ]
  },
  {
   "cell_type": "code",
   "execution_count": 11,
   "metadata": {},
   "outputs": [
    {
     "data": {
      "text/plain": [
       "'Tokyo'"
      ]
     },
     "execution_count": 11,
     "metadata": {},
     "output_type": "execute_result"
    }
   ],
   "source": [
    "class Country:\n",
    "    \n",
    "    def __init__(self, name):\n",
    "        self.name = name\n",
    "\n",
    "class City(Country): # 継承\n",
    "    \n",
    "    def __init__(self, name, city):\n",
    "        Country.__init__(self, name) # 親のinitを呼び出し\n",
    "        self.city = city\n",
    "        \n",
    "cityClass = City('Japan','Tokyo')\n",
    "cityClass.city"
   ]
  },
  {
   "cell_type": "markdown",
   "metadata": {},
   "source": [
    "# 親クラスの呼び出し"
   ]
  },
  {
   "cell_type": "code",
   "execution_count": 13,
   "metadata": {},
   "outputs": [
    {
     "name": "stdout",
     "output_type": "stream",
     "text": [
      "test\n"
     ]
    }
   ],
   "source": [
    "class Country:\n",
    "    \n",
    "    def __init__(self, name):\n",
    "        self.name = name\n",
    "        \n",
    "    def test(self,msg):\n",
    "        print(msg)\n",
    "\n",
    "class City(Country):\n",
    "    \n",
    "    def __init__(self, name, city):\n",
    "        Country.__init__(self, name)\n",
    "        self.city = city\n",
    "        \n",
    "    def test(self,msg):\n",
    "        super().test(msg) # 親のメソッドを呼び出し\n",
    "        \n",
    "cityClass = City('Japan','Tokyo')\n",
    "cityClass.test('test')"
   ]
  },
  {
   "cell_type": "code",
   "execution_count": null,
   "metadata": {
    "collapsed": true
   },
   "outputs": [],
   "source": []
  }
 ],
 "metadata": {
  "kernelspec": {
   "display_name": "Python 3",
   "language": "python",
   "name": "python3"
  },
  "language_info": {
   "codemirror_mode": {
    "name": "ipython",
    "version": 3
   },
   "file_extension": ".py",
   "mimetype": "text/x-python",
   "name": "python",
   "nbconvert_exporter": "python",
   "pygments_lexer": "ipython3",
   "version": "3.6.1"
  }
 },
 "nbformat": 4,
 "nbformat_minor": 2
}
