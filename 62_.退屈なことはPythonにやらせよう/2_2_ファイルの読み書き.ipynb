{
 "cells": [
  {
   "cell_type": "markdown",
   "metadata": {},
   "source": [
    "# ランダムな問題を作成する\n",
    "・県庁所在地を問う問題<br>\n",
    "・3通り作る<br>\n",
    "・都道府県の47問の4択<br>\n",
    "・問題と解答それぞれ３５のテキストファイルを作成<br>"
   ]
  },
  {
   "cell_type": "code",
   "execution_count": 7,
   "metadata": {},
   "outputs": [],
   "source": [
    "import random\n",
    "\n",
    "# 問題となるデータ\n",
    "capitals = {'北海道': '札幌市', '青森県': '青森市', '岩手県': '盛岡市','宮城県': '仙台市', '秋田県': '秋田市', '山形県': '山形市', '福島県': '福島市',\n",
    "'茨城県': '水戸市', '栃木県': '宇都宮市', '群馬県': '前橋市',\n",
    "'埼玉県': 'さいたま市', '千葉県': '千葉市', '東京都': '東京',\n",
    "'神奈川県': '横浜市', '新潟県': '新潟市', '富山県': '富山市', '石川県': '金沢市',\n",
    "'福井県': '福井市', '山梨県': '甲府市', '長野県': '長野市', '岐阜県': '岐阜市',\n",
    "'静岡県': '静岡市', '愛知県': '名古屋市', '三重県': '津市', '滋賀県': '大津市',\n",
    "'京都府': '京都市', '大阪府': '大阪市', '兵庫県': '神戸市', '奈良県': '奈良市',\n",
    "'和歌山県': '和歌山市', '鳥取県': '鳥取市', '島根県': '松江市',\n",
    "'岡山県': '岡山市', '広島県': '広島市', '山口県': '山口市', '徳島県': '徳島市',\n",
    "'香川県': '高松市', '愛媛県': '松山市', '高知県': '高知市', '福岡県': '福岡市',\n",
    "'佐賀県': '佐賀市', '長崎県': '長崎市', '熊本県': '熊本市', '大分県': '大分市',\n",
    "'宮崎県': '宮崎市', '鹿児島県': '鹿児島市', '沖縄県': '那覇市'}\n",
    "\n",
    "# 3個の問題集を作成する\n",
    "for quiz_num in range(3):\n",
    "    # 問題集と解答集のファイルを作成\n",
    "    quiz_file = open('quiz{}.txt'.format(quiz_num + 1), 'w')\n",
    "    answer_file = open('quiz_answers{}.txt'.format(quiz_num + 1),'w')\n",
    "    \n",
    "    # 問題集のヘッダーを書く\n",
    "    quiz_file.write('名前:\\n\\n日付:\\n\\n学期:\\n\\n')\n",
    "    quiz_file.write((' '*20) + 'クイズ（問題番号{})'.format(quiz_num + 1))\n",
    "    quiz_file.write('\\n\\n')\n",
    "    \n",
    "    # keyのみをシャッフルして都道府県リストを作成する\n",
    "    prefectures = list(capitals.keys())\n",
    "    random.shuffle(prefectures)\n",
    "    \n",
    "    \n",
    "    # ループ\n",
    "    for question_num in range(len(prefectures)):\n",
    "        # 正解と誤答を取得\n",
    "        correct_ans = capitals[prefectures[question_num]] # 正解を取得\n",
    "        wrong_ans = list(capitals.values()) # 正解候補を全て取得（不正解リスト）\n",
    "        del wrong_ans [wrong_ans.index(correct_ans)] # 不正解リストから正解を削除\n",
    "        wrong_ans = random.sample(wrong_ans,3) # sample関数を使い、３つを取得\n",
    "        answer_opt = wrong_ans + [correct_ans] # 正解を追加し、選択肢が完成\n",
    "        random.shuffle(answer_opt) # 選択肢をシャッフル\n",
    "        \n",
    "        # 問題文と選択肢をファイルに書く\n",
    "        quiz_file.write('{}.{}の都道府県庁所在地は？\\n'.format(question_num + 1\n",
    "                                                    ,prefectures[question_num]))\n",
    "        for i in range(4):\n",
    "            quiz_file.write('{}.{}\\n'.format('ABCD'[i], answer_opt[i]))\n",
    "            \n",
    "        quiz_file.write('\\n')\n",
    "        \n",
    "        # 答えをファイルに書く\n",
    "        answer_file.write('{}.{}\\n'.format(question_num + 1,'ABCD'[answer_opt.index(correct_ans)]))\n",
    "        \n",
    "    quiz_file.close()\n",
    "    answer_file.close()\n",
    "    "
   ]
  },
  {
   "cell_type": "code",
   "execution_count": null,
   "metadata": {
    "collapsed": true
   },
   "outputs": [],
   "source": []
  }
 ],
 "metadata": {
  "kernelspec": {
   "display_name": "Python 3",
   "language": "python",
   "name": "python3"
  },
  "language_info": {
   "codemirror_mode": {
    "name": "ipython",
    "version": 3
   },
   "file_extension": ".py",
   "mimetype": "text/x-python",
   "name": "python",
   "nbconvert_exporter": "python",
   "pygments_lexer": "ipython3",
   "version": "3.6.1"
  }
 },
 "nbformat": 4,
 "nbformat_minor": 2
}
