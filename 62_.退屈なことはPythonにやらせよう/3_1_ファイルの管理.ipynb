{
 "cells": [
  {
   "cell_type": "markdown",
   "metadata": {},
   "source": [
    "# shutil(シェルユーティリティ)モジュール"
   ]
  },
  {
   "cell_type": "code",
   "execution_count": null,
   "metadata": {
    "collapsed": true
   },
   "outputs": [],
   "source": [
    "import shutil, os\n",
    "shutil.copy('C:\\\\spam.txt','C:\\\\deliciout') # 第一引数のファイルを第二引数のフォルダにコピーする\n",
    "\n",
    "shutil.copytree('C:\\\\bacon', 'C:\\\\bacon_backup') # フォルダ全体をコピーする\n",
    "\n",
    "shutil.move('C:\\\\bacon.txt','C:\\\\eggs') # ファイルを移動する\n",
    "\n",
    "os.unlink(filename) # ファイルを削除する\n",
    "\n",
    "os.rmdir(path) # フォルダを削除する（フォルダは空）\n",
    "\n",
    "shutil.rmtree(path) # フォルダとその中身も削除"
   ]
  },
  {
   "cell_type": "markdown",
   "metadata": {},
   "source": [
    "# send2trash\n",
    "削除するのではなく、ゴミ箱に移動する"
   ]
  },
  {
   "cell_type": "code",
   "execution_count": null,
   "metadata": {
    "collapsed": true
   },
   "outputs": [],
   "source": [
    "import send2trash\n",
    "send2trash.send2trash('bacon.txt')"
   ]
  },
  {
   "cell_type": "markdown",
   "metadata": {},
   "source": [
    "# os.walk\n",
    "以下を返す\n",
    "・現在のフォルダ名<br>\n",
    "・サブフォルダ名<br>\n",
    "・ファイル名<br>"
   ]
  },
  {
   "cell_type": "code",
   "execution_count": 1,
   "metadata": {
    "scrolled": true
   },
   "outputs": [
    {
     "name": "stdout",
     "output_type": "stream",
     "text": [
      "C:\\Users\\94477\\Anaconda\\a.note\\04.Python自動化\n",
      "subfolder of C:\\Users\\94477\\Anaconda\\a.note\\04.Python自動化:.ipynb_checkpoints\n",
      "file inside C:\\Users\\94477\\Anaconda\\a.note\\04.Python自動化:1_1_正規化.ipynb\n",
      "file inside C:\\Users\\94477\\Anaconda\\a.note\\04.Python自動化:1_2_正規化.ipynb\n",
      "file inside C:\\Users\\94477\\Anaconda\\a.note\\04.Python自動化:2_1_ファイルの読み書き.ipynb\n",
      "file inside C:\\Users\\94477\\Anaconda\\a.note\\04.Python自動化:2_2_ファイルの読み書き.ipynb\n",
      "file inside C:\\Users\\94477\\Anaconda\\a.note\\04.Python自動化:3_1_ファイルの管理.ipynb\n",
      "file inside C:\\Users\\94477\\Anaconda\\a.note\\04.Python自動化:hello.txt\n",
      "file inside C:\\Users\\94477\\Anaconda\\a.note\\04.Python自動化:mydata.bak\n",
      "file inside C:\\Users\\94477\\Anaconda\\a.note\\04.Python自動化:mydata.dat\n",
      "file inside C:\\Users\\94477\\Anaconda\\a.note\\04.Python自動化:mydata.dir\n",
      "file inside C:\\Users\\94477\\Anaconda\\a.note\\04.Python自動化:quiz1.txt\n",
      "file inside C:\\Users\\94477\\Anaconda\\a.note\\04.Python自動化:quiz2.txt\n",
      "file inside C:\\Users\\94477\\Anaconda\\a.note\\04.Python自動化:quiz3.txt\n",
      "file inside C:\\Users\\94477\\Anaconda\\a.note\\04.Python自動化:quiz_answers1.txt\n",
      "file inside C:\\Users\\94477\\Anaconda\\a.note\\04.Python自動化:quiz_answers2.txt\n",
      "file inside C:\\Users\\94477\\Anaconda\\a.note\\04.Python自動化:quiz_answers3.txt\n",
      "\n",
      "C:\\Users\\94477\\Anaconda\\a.note\\04.Python自動化\\.ipynb_checkpoints\n",
      "file inside C:\\Users\\94477\\Anaconda\\a.note\\04.Python自動化\\.ipynb_checkpoints:1_1_正規化-checkpoint.ipynb\n",
      "file inside C:\\Users\\94477\\Anaconda\\a.note\\04.Python自動化\\.ipynb_checkpoints:1_2_正規化-checkpoint.ipynb\n",
      "file inside C:\\Users\\94477\\Anaconda\\a.note\\04.Python自動化\\.ipynb_checkpoints:2_1_ファイルの読み書き-checkpoint.ipynb\n",
      "file inside C:\\Users\\94477\\Anaconda\\a.note\\04.Python自動化\\.ipynb_checkpoints:2_2_ファイルの読み書き-checkpoint.ipynb\n",
      "file inside C:\\Users\\94477\\Anaconda\\a.note\\04.Python自動化\\.ipynb_checkpoints:3_1_ファイルの管理-checkpoint.ipynb\n",
      "\n"
     ]
    }
   ],
   "source": [
    "import os\n",
    "\n",
    "for foldername, subfolders, filenames in os.walk('C:\\\\Users\\\\94477\\\\Anaconda\\\\a.note\\\\04.Python自動化'):\n",
    "    print(foldername)\n",
    "    \n",
    "    for subfolder in subfolders:\n",
    "        print('subfolder of ' + foldername + ':' + subfolder)\n",
    "        \n",
    "    for filename in filenames:\n",
    "        print('file inside ' + foldername + ':' + filename)\n",
    "    \n",
    "    print('')"
   ]
  },
  {
   "cell_type": "markdown",
   "metadata": {},
   "source": [
    "# ZIP"
   ]
  },
  {
   "cell_type": "code",
   "execution_count": null,
   "metadata": {
    "collapsed": true
   },
   "outputs": [],
   "source": [
    "# 読み込み\n",
    "import zipfile, os\n",
    "test_zip = zipfile.ZipFile('example.zip')\n",
    "test_zip.extractall() # 展開をする場合（フォルダ名を指定することも可能）"
   ]
  }
 ],
 "metadata": {
  "kernelspec": {
   "display_name": "Python 3",
   "language": "python",
   "name": "python3"
  },
  "language_info": {
   "codemirror_mode": {
    "name": "ipython",
    "version": 3
   },
   "file_extension": ".py",
   "mimetype": "text/x-python",
   "name": "python",
   "nbconvert_exporter": "python",
   "pygments_lexer": "ipython3",
   "version": "3.6.1"
  }
 },
 "nbformat": 4,
 "nbformat_minor": 2
}
