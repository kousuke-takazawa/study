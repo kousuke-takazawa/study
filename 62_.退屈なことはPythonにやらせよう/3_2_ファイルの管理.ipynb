{
 "cells": [
  {
   "cell_type": "markdown",
   "metadata": {},
   "source": [
    "# 米国日付(MMDDYYYY)を欧州日付(DDMMYYYY）に変換する"
   ]
  },
  {
   "cell_type": "code",
   "execution_count": 2,
   "metadata": {},
   "outputs": [],
   "source": [
    "import shutil, os, re\n",
    "\n",
    "# 日付の正規表現\n",
    "date_pattern = re.compile(r\"\"\"\n",
    "   ^(.*?)    # 日付までのテキスト\n",
    "   ((0|1)?\\d)-   # 月\n",
    "   ((0|1|2|3)?\\d) # 日\n",
    "   ((19|20)\\d\\d)  # 年\n",
    "   (.*?)$\n",
    "\"\"\", re.VERBOSE)\n",
    "\n",
    "# 全ファイルをループ\n",
    "for filename in os.listdir('.'):\n",
    "    mo = date_pattern.search(filename)\n",
    "\n",
    "    # 日付のないファイルはスキップ\n",
    "    if mo == None:\n",
    "        continue\n",
    "\n",
    "    # ファイル名を部分分解\n",
    "    before_part = mo.group(1)\n",
    "    month_part = mo.group(2)\n",
    "    day_part = mo.group(4)\n",
    "    year_part = mo.group(6)\n",
    "    after_part = mo.group(8)\n",
    "    \n",
    "    # 欧州式の日付のファイル名作成\n",
    "    euro_filename = before_part + day_part + '-' + month_part + '-' + \\\n",
    "    year_part + after_part\n",
    "\n",
    "# ファイルの絶対パスを取得\n",
    "\n",
    "    # ファイル名を変更する\n",
    "    print('Renaming \"{}\" to \"{}\" ...'.format(filename, euro_filename))\n",
    "    # shutil.move(filename. euro_filename)\n",
    "\n"
   ]
  },
  {
   "cell_type": "markdown",
   "metadata": {},
   "source": [
    "# フォルダをZIPファイルにバックアップする\n",
    "省略"
   ]
  },
  {
   "cell_type": "code",
   "execution_count": null,
   "metadata": {
    "collapsed": true
   },
   "outputs": [],
   "source": []
  }
 ],
 "metadata": {
  "kernelspec": {
   "display_name": "Python 3",
   "language": "python",
   "name": "python3"
  },
  "language_info": {
   "codemirror_mode": {
    "name": "ipython",
    "version": 3
   },
   "file_extension": ".py",
   "mimetype": "text/x-python",
   "name": "python",
   "nbconvert_exporter": "python",
   "pygments_lexer": "ipython3",
   "version": "3.6.1"
  }
 },
 "nbformat": 4,
 "nbformat_minor": 2
}
