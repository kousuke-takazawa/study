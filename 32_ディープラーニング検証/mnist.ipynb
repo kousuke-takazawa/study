{
 "cells": [
  {
   "cell_type": "code",
   "execution_count": 1,
   "metadata": {},
   "outputs": [
    {
     "name": "stderr",
     "output_type": "stream",
     "text": [
      "Using TensorFlow backend.\n"
     ]
    }
   ],
   "source": [
    "# http://qiita.com/ash8h/items/29e24fc617b832fba136\n",
    "import tensorflow\n",
    "import keras\n",
    "from keras.datasets import mnist\n",
    "from keras.models import Sequential\n",
    "from keras.layers import Dense, Dropout\n",
    "from keras.optimizers import RMSprop"
   ]
  },
  {
   "cell_type": "code",
   "execution_count": 2,
   "metadata": {
    "collapsed": true
   },
   "outputs": [],
   "source": [
    "batch_size = 128 # ミニバッチのサイズ\n",
    "num_classes = 10 # クラス数（０～９まで）\n",
    "epochs = 20 # 訓練データを何回繰り返して学習させるか\n",
    "\n",
    "# MNISTのデータをロード（トレーニング画像が6万枚、テスト画像が1万枚）\n",
    "(x_train, y_train), (x_test, y_test) = mnist.load_data()\n",
    "\n",
    "# 28*28の画像を784の一次元に変換\n",
    "x_train = x_train.reshape(60000, 784)\n",
    "x_test = x_test.reshape(10000, 784)\n",
    "\n",
    "# int型をfloat32型に変換\n",
    "x_train = x_train.astype('float32')\n",
    "x_test = x_test.astype('float32')\n",
    "\n",
    "# 白黒の255階調を０～１の範囲に変換\n",
    "x_train /= 255\n",
    "x_test /= 255\n",
    "\n",
    "# クラスを2値に変換（例えば5であれば[0, 0, 0, 0, 0, 1, 0, 0, 0, 0]）\n",
    "y_train = keras.utils.to_categorical(y_train, num_classes)\n",
    "y_test = keras.utils.to_categorical(y_test, num_classes)"
   ]
  },
  {
   "cell_type": "code",
   "execution_count": 3,
   "metadata": {},
   "outputs": [
    {
     "name": "stdout",
     "output_type": "stream",
     "text": [
      "_________________________________________________________________\n",
      "Layer (type)                 Output Shape              Param #   \n",
      "=================================================================\n",
      "dense_1 (Dense)              (None, 512)               401920    \n",
      "_________________________________________________________________\n",
      "dropout_1 (Dropout)          (None, 512)               0         \n",
      "_________________________________________________________________\n",
      "dense_2 (Dense)              (None, 512)               262656    \n",
      "_________________________________________________________________\n",
      "dropout_2 (Dropout)          (None, 512)               0         \n",
      "_________________________________________________________________\n",
      "dense_3 (Dense)              (None, 10)                5130      \n",
      "=================================================================\n",
      "Total params: 669,706\n",
      "Trainable params: 669,706\n",
      "Non-trainable params: 0\n",
      "_________________________________________________________________\n"
     ]
    }
   ],
   "source": [
    "# モデル構築（relu>dropout>relu>dropout>softmax）\n",
    "model = Sequential()\n",
    "model.add(Dense(512, activation='relu', input_shape=(784,)))\n",
    "model.add(Dropout(0.2))\n",
    "model.add(Dense(512, activation='relu'))\n",
    "model.add(Dropout(0.2))\n",
    "model.add(Dense(10, activation='softmax'))\n",
    "\n",
    "model.summary() # モデルの要約を出力"
   ]
  },
  {
   "cell_type": "code",
   "execution_count": 4,
   "metadata": {
    "collapsed": true
   },
   "outputs": [],
   "source": [
    "# コンパイル\n",
    "model.compile(loss='categorical_crossentropy', # 損失関数\n",
    "              optimizer=RMSprop(), # 最適化アルゴリズム\n",
    "              metrics=['accuracy'])"
   ]
  },
  {
   "cell_type": "code",
   "execution_count": 5,
   "metadata": {},
   "outputs": [
    {
     "name": "stdout",
     "output_type": "stream",
     "text": [
      "Train on 60000 samples, validate on 10000 samples\n",
      "Epoch 1/20\n",
      "60000/60000 [==============================] - 7s - loss: 0.2462 - acc: 0.9239 - val_loss: 0.0925 - val_acc: 0.9724\n",
      "Epoch 2/20\n",
      "60000/60000 [==============================] - 6s - loss: 0.1023 - acc: 0.9695 - val_loss: 0.0806 - val_acc: 0.9752\n",
      "Epoch 3/20\n",
      "60000/60000 [==============================] - 7s - loss: 0.0749 - acc: 0.9774 - val_loss: 0.0877 - val_acc: 0.9750\n",
      "Epoch 4/20\n",
      "60000/60000 [==============================] - 6s - loss: 0.0593 - acc: 0.9828 - val_loss: 0.0692 - val_acc: 0.9804\n",
      "Epoch 5/20\n",
      "60000/60000 [==============================] - 7s - loss: 0.0517 - acc: 0.9841 - val_loss: 0.0752 - val_acc: 0.9801\n",
      "Epoch 6/20\n",
      "60000/60000 [==============================] - 6s - loss: 0.0430 - acc: 0.9869 - val_loss: 0.0828 - val_acc: 0.9810\n",
      "Epoch 7/20\n",
      "60000/60000 [==============================] - 7s - loss: 0.0398 - acc: 0.9884 - val_loss: 0.0825 - val_acc: 0.9807\n",
      "Epoch 8/20\n",
      "60000/60000 [==============================] - 6s - loss: 0.0348 - acc: 0.9901 - val_loss: 0.0879 - val_acc: 0.9814\n",
      "Epoch 9/20\n",
      "60000/60000 [==============================] - 7s - loss: 0.0317 - acc: 0.9905 - val_loss: 0.0844 - val_acc: 0.9827\n",
      "Epoch 10/20\n",
      "60000/60000 [==============================] - 6s - loss: 0.0286 - acc: 0.9914 - val_loss: 0.0921 - val_acc: 0.9831\n",
      "Epoch 11/20\n",
      "60000/60000 [==============================] - 6s - loss: 0.0269 - acc: 0.9925 - val_loss: 0.0866 - val_acc: 0.9836\n",
      "Epoch 12/20\n",
      "60000/60000 [==============================] - 7s - loss: 0.0246 - acc: 0.9927 - val_loss: 0.1044 - val_acc: 0.9810\n",
      "Epoch 13/20\n",
      "60000/60000 [==============================] - 6s - loss: 0.0239 - acc: 0.9934 - val_loss: 0.0972 - val_acc: 0.9823\n",
      "Epoch 14/20\n",
      "60000/60000 [==============================] - 7s - loss: 0.0223 - acc: 0.9937 - val_loss: 0.1080 - val_acc: 0.9823\n",
      "Epoch 15/20\n",
      "60000/60000 [==============================] - 7s - loss: 0.0230 - acc: 0.9943 - val_loss: 0.0987 - val_acc: 0.9849\n",
      "Epoch 16/20\n",
      "60000/60000 [==============================] - 6s - loss: 0.0219 - acc: 0.9939 - val_loss: 0.1058 - val_acc: 0.9826\n",
      "Epoch 17/20\n",
      "60000/60000 [==============================] - 6s - loss: 0.0209 - acc: 0.9946 - val_loss: 0.1157 - val_acc: 0.9818\n",
      "Epoch 18/20\n",
      "60000/60000 [==============================] - 6s - loss: 0.0214 - acc: 0.9946 - val_loss: 0.1102 - val_acc: 0.9839\n",
      "Epoch 19/20\n",
      "60000/60000 [==============================] - 6s - loss: 0.0184 - acc: 0.9953 - val_loss: 0.1109 - val_acc: 0.9843\n",
      "Epoch 20/20\n",
      "60000/60000 [==============================] - 7s - loss: 0.0186 - acc: 0.9954 - val_loss: 0.1048 - val_acc: 0.9847\n"
     ]
    }
   ],
   "source": [
    "# モデルの学習\n",
    "history = model.fit(x_train, y_train, # 訓練用の画像とクラス\n",
    "                    batch_size=batch_size, # ミニバッチの数\n",
    "                    epochs=epochs, # エポック（繰り返し）の数\n",
    "                    verbose=1, # ログ出力のフラグ\n",
    "                    validation_data=(x_test, y_test))  # バリデーションデータ(テスト用を使っていいの？)"
   ]
  },
  {
   "cell_type": "code",
   "execution_count": 6,
   "metadata": {},
   "outputs": [
    {
     "name": "stdout",
     "output_type": "stream",
     "text": [
      "Test loss: 0.104843744253\n",
      "Test accuracy: 0.9847\n"
     ]
    }
   ],
   "source": [
    "# モデルの評価\n",
    "score = model.evaluate(x_test, y_test, verbose=0)\n",
    "\n",
    "print('Test loss:', score[0])\n",
    "print('Test accuracy:', score[1])"
   ]
  },
  {
   "cell_type": "code",
   "execution_count": null,
   "metadata": {
    "collapsed": true
   },
   "outputs": [],
   "source": []
  }
 ],
 "metadata": {
  "kernelspec": {
   "display_name": "Python 3",
   "language": "python",
   "name": "python3"
  },
  "language_info": {
   "codemirror_mode": {
    "name": "ipython",
    "version": 3
   },
   "file_extension": ".py",
   "mimetype": "text/x-python",
   "name": "python",
   "nbconvert_exporter": "python",
   "pygments_lexer": "ipython3",
   "version": "3.6.2"
  }
 },
 "nbformat": 4,
 "nbformat_minor": 2
}
