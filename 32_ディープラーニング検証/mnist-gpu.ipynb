{
 "cells": [
  {
   "cell_type": "code",
   "execution_count": 3,
   "metadata": {},
   "outputs": [
    {
     "name": "stderr",
     "output_type": "stream",
     "text": [
      "Using TensorFlow backend.\n"
     ]
    }
   ],
   "source": [
    "# http://qiita.com/ash8h/items/29e24fc617b832fba136\n",
    "import tensorflow\n",
    "import keras\n",
    "from keras.datasets import mnist\n",
    "from keras.models import Sequential\n",
    "from keras.layers import Dense, Dropout\n",
    "from keras.optimizers import RMSprop"
   ]
  },
  {
   "cell_type": "code",
   "execution_count": 4,
   "metadata": {
    "collapsed": true
   },
   "outputs": [],
   "source": [
    "batch_size = 128 # ミニバッチのサイズ\n",
    "num_classes = 10 # クラス数（０～９まで）\n",
    "epochs = 20 # 訓練データを何回繰り返して学習させるか\n",
    "\n",
    "# MNISTのデータをロード（トレーニング画像が6万枚、テスト画像が1万枚）\n",
    "(x_train, y_train), (x_test, y_test) = mnist.load_data()\n",
    "\n",
    "# 28*28の画像を784の一次元に変換\n",
    "x_train = x_train.reshape(60000, 784)\n",
    "x_test = x_test.reshape(10000, 784)\n",
    "\n",
    "# int型をfloat32型に変換\n",
    "x_train = x_train.astype('float32')\n",
    "x_test = x_test.astype('float32')\n",
    "\n",
    "# 白黒の255階調を０～１の範囲に変換\n",
    "x_train /= 255\n",
    "x_test /= 255\n",
    "\n",
    "# クラスを2値に変換（例えば5であれば[0, 0, 0, 0, 0, 1, 0, 0, 0, 0]）\n",
    "y_train = keras.utils.to_categorical(y_train, num_classes)\n",
    "y_test = keras.utils.to_categorical(y_test, num_classes)"
   ]
  },
  {
   "cell_type": "code",
   "execution_count": 5,
   "metadata": {},
   "outputs": [
    {
     "name": "stdout",
     "output_type": "stream",
     "text": [
      "_________________________________________________________________\n",
      "Layer (type)                 Output Shape              Param #   \n",
      "=================================================================\n",
      "dense_1 (Dense)              (None, 512)               401920    \n",
      "_________________________________________________________________\n",
      "dropout_1 (Dropout)          (None, 512)               0         \n",
      "_________________________________________________________________\n",
      "dense_2 (Dense)              (None, 512)               262656    \n",
      "_________________________________________________________________\n",
      "dropout_2 (Dropout)          (None, 512)               0         \n",
      "_________________________________________________________________\n",
      "dense_3 (Dense)              (None, 10)                5130      \n",
      "=================================================================\n",
      "Total params: 669,706\n",
      "Trainable params: 669,706\n",
      "Non-trainable params: 0\n",
      "_________________________________________________________________\n"
     ]
    }
   ],
   "source": [
    "# モデル構築（relu>dropout>relu>dropout>softmax）\n",
    "model = Sequential()\n",
    "model.add(Dense(512, activation='relu', input_shape=(784,)))\n",
    "model.add(Dropout(0.2))\n",
    "model.add(Dense(512, activation='relu'))\n",
    "model.add(Dropout(0.2))\n",
    "model.add(Dense(10, activation='softmax'))\n",
    "\n",
    "model.summary() # モデルの要約を出力"
   ]
  },
  {
   "cell_type": "code",
   "execution_count": 6,
   "metadata": {
    "collapsed": true
   },
   "outputs": [],
   "source": [
    "# コンパイル\n",
    "model.compile(loss='categorical_crossentropy', # 損失関数\n",
    "              optimizer=RMSprop(), # 最適化アルゴリズム\n",
    "              metrics=['accuracy'])"
   ]
  },
  {
   "cell_type": "code",
   "execution_count": 7,
   "metadata": {},
   "outputs": [
    {
     "name": "stdout",
     "output_type": "stream",
     "text": [
      "Train on 60000 samples, validate on 10000 samples\n",
      "Epoch 1/20\n",
      "60000/60000 [==============================] - 78s - loss: 0.2480 - acc: 0.9243 - val_loss: 0.1010 - val_acc: 0.9683\n",
      "Epoch 2/20\n",
      "60000/60000 [==============================] - 2s - loss: 0.1029 - acc: 0.9689 - val_loss: 0.0941 - val_acc: 0.9707\n",
      "Epoch 3/20\n",
      "60000/60000 [==============================] - 2s - loss: 0.0752 - acc: 0.9767 - val_loss: 0.0841 - val_acc: 0.9750\n",
      "Epoch 4/20\n",
      "60000/60000 [==============================] - 2s - loss: 0.0600 - acc: 0.9816 - val_loss: 0.0788 - val_acc: 0.9782\n",
      "Epoch 5/20\n",
      "60000/60000 [==============================] - 2s - loss: 0.0515 - acc: 0.9849 - val_loss: 0.0675 - val_acc: 0.9816\n",
      "Epoch 6/20\n",
      "60000/60000 [==============================] - 2s - loss: 0.0437 - acc: 0.9871 - val_loss: 0.0781 - val_acc: 0.9816\n",
      "Epoch 7/20\n",
      "60000/60000 [==============================] - 2s - loss: 0.0407 - acc: 0.9885 - val_loss: 0.0789 - val_acc: 0.9822\n",
      "Epoch 8/20\n",
      "60000/60000 [==============================] - 2s - loss: 0.0343 - acc: 0.9897 - val_loss: 0.0868 - val_acc: 0.9805\n",
      "Epoch 9/20\n",
      "60000/60000 [==============================] - 2s - loss: 0.0328 - acc: 0.9906 - val_loss: 0.0785 - val_acc: 0.9824\n",
      "Epoch 10/20\n",
      "60000/60000 [==============================] - 2s - loss: 0.0277 - acc: 0.9918 - val_loss: 0.0745 - val_acc: 0.9832\n",
      "Epoch 11/20\n",
      "60000/60000 [==============================] - 2s - loss: 0.0259 - acc: 0.9924 - val_loss: 0.0946 - val_acc: 0.9810\n",
      "Epoch 12/20\n",
      "60000/60000 [==============================] - 2s - loss: 0.0242 - acc: 0.9932 - val_loss: 0.0952 - val_acc: 0.9829\n",
      "Epoch 13/20\n",
      "60000/60000 [==============================] - 2s - loss: 0.0223 - acc: 0.9940 - val_loss: 0.0883 - val_acc: 0.9842\n",
      "Epoch 14/20\n",
      "60000/60000 [==============================] - 2s - loss: 0.0235 - acc: 0.9939 - val_loss: 0.0985 - val_acc: 0.9834\n",
      "Epoch 15/20\n",
      "60000/60000 [==============================] - 2s - loss: 0.0224 - acc: 0.9937 - val_loss: 0.0971 - val_acc: 0.9836\n",
      "Epoch 16/20\n",
      "60000/60000 [==============================] - 2s - loss: 0.0208 - acc: 0.9944 - val_loss: 0.1107 - val_acc: 0.9831\n",
      "Epoch 17/20\n",
      "60000/60000 [==============================] - 2s - loss: 0.0197 - acc: 0.9949 - val_loss: 0.1002 - val_acc: 0.9833\n",
      "Epoch 18/20\n",
      "60000/60000 [==============================] - 2s - loss: 0.0186 - acc: 0.9951 - val_loss: 0.1052 - val_acc: 0.9823\n",
      "Epoch 19/20\n",
      "60000/60000 [==============================] - 2s - loss: 0.0200 - acc: 0.9953 - val_loss: 0.1021 - val_acc: 0.9830\n",
      "Epoch 20/20\n",
      "60000/60000 [==============================] - 2s - loss: 0.0193 - acc: 0.9952 - val_loss: 0.1126 - val_acc: 0.9831\n"
     ]
    }
   ],
   "source": [
    "# モデルの学習\n",
    "history = model.fit(x_train, y_train, # 訓練用の画像とクラス\n",
    "                    batch_size=batch_size, # ミニバッチの数\n",
    "                    epochs=epochs, # エポック（繰り返し）の数\n",
    "                    verbose=1, # ログ出力のフラグ\n",
    "                    validation_data=(x_test, y_test))  # バリデーションデータ(テスト用を使っていいの？)"
   ]
  },
  {
   "cell_type": "code",
   "execution_count": 8,
   "metadata": {},
   "outputs": [
    {
     "name": "stdout",
     "output_type": "stream",
     "text": [
      "Test loss: 0.112589410852\n",
      "Test accuracy: 0.9831\n"
     ]
    }
   ],
   "source": [
    "# モデルの評価\n",
    "score = model.evaluate(x_test, y_test, verbose=0)\n",
    "\n",
    "print('Test loss:', score[0])\n",
    "print('Test accuracy:', score[1])"
   ]
  },
  {
   "cell_type": "code",
   "execution_count": null,
   "metadata": {
    "collapsed": true
   },
   "outputs": [],
   "source": []
  }
 ],
 "metadata": {
  "kernelspec": {
   "display_name": "Python 3",
   "language": "python",
   "name": "python3"
  },
  "language_info": {
   "codemirror_mode": {
    "name": "ipython",
    "version": 3
   },
   "file_extension": ".py",
   "mimetype": "text/x-python",
   "name": "python",
   "nbconvert_exporter": "python",
   "pygments_lexer": "ipython3",
   "version": "3.6.2"
  }
 },
 "nbformat": 4,
 "nbformat_minor": 2
}
