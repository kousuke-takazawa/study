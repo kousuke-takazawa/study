{
 "cells": [
  {
   "cell_type": "markdown",
   "metadata": {},
   "source": [
    "# ラムダ式"
   ]
  },
  {
   "cell_type": "code",
   "execution_count": 1,
   "metadata": {},
   "outputs": [
    {
     "name": "stdout",
     "output_type": "stream",
     "text": [
      "30\n"
     ]
    }
   ],
   "source": [
    "calc = lambda num1,num2 : num1+num2 #ラムダの後に引数と処理\n",
    "print(calc(10,20))"
   ]
  },
  {
   "cell_type": "markdown",
   "metadata": {},
   "source": [
    "# ファイル読み込み"
   ]
  },
  {
   "cell_type": "code",
   "execution_count": 2,
   "metadata": {},
   "outputs": [
    {
     "name": "stdout",
     "output_type": "stream",
     "text": [
      "hello\n",
      "\n",
      "python\n"
     ]
    }
   ],
   "source": [
    "f = open('test.txt','r')\n",
    "\n",
    "for row in f:\n",
    "    print(row)\n",
    "\n",
    "f.close()"
   ]
  },
  {
   "cell_type": "markdown",
   "metadata": {},
   "source": [
    "# ファイル書き込み"
   ]
  },
  {
   "cell_type": "code",
   "execution_count": 3,
   "metadata": {
    "collapsed": true
   },
   "outputs": [],
   "source": [
    "f = open('test.txt','w')\n",
    "\n",
    "f.write('書き込み') # 中身は上書きされることに注意\n",
    "\n",
    "f.close()"
   ]
  },
  {
   "cell_type": "markdown",
   "metadata": {},
   "source": [
    "# ファイル、ディレクトリの存在チェック"
   ]
  },
  {
   "cell_type": "code",
   "execution_count": 4,
   "metadata": {},
   "outputs": [
    {
     "name": "stdout",
     "output_type": "stream",
     "text": [
      "存在します\n"
     ]
    }
   ],
   "source": [
    "import os\n",
    "filepath = 'c:\\Anaconda'\n",
    "\n",
    "if os.path.exists(filepath):\n",
    "    print('存在します')"
   ]
  },
  {
   "cell_type": "code",
   "execution_count": 5,
   "metadata": {},
   "outputs": [
    {
     "name": "stdout",
     "output_type": "stream",
     "text": [
      "ディレクトリです\n"
     ]
    }
   ],
   "source": [
    "if os.path.isdir(filepath):\n",
    "    print('ディレクトリです')"
   ]
  },
  {
   "cell_type": "markdown",
   "metadata": {},
   "source": [
    "# ファイルの作成、削除"
   ]
  },
  {
   "cell_type": "code",
   "execution_count": 9,
   "metadata": {},
   "outputs": [],
   "source": [
    "tmpdir = 'C:\\\\test' # \\だとエスケープされてしまう？\n",
    "os.mkdir(tmpdir)"
   ]
  },
  {
   "cell_type": "code",
   "execution_count": 10,
   "metadata": {
    "collapsed": true
   },
   "outputs": [],
   "source": [
    "os.rmdir(tmpdir)"
   ]
  },
  {
   "cell_type": "markdown",
   "metadata": {},
   "source": [
    "# ファイル、フォルダのコピー"
   ]
  },
  {
   "cell_type": "code",
   "execution_count": 12,
   "metadata": {},
   "outputs": [
    {
     "data": {
      "text/plain": [
       "'c:\\\\test2'"
      ]
     },
     "execution_count": 12,
     "metadata": {},
     "output_type": "execute_result"
    }
   ],
   "source": [
    "import os\n",
    "import shutil\n",
    "shutil.copytree('c:\\\\test','c:\\\\test2')"
   ]
  },
  {
   "cell_type": "markdown",
   "metadata": {},
   "source": [
    "# with文\n",
    "後処理でファイルのクローズが行われる。（エラーが発生した場合も）"
   ]
  },
  {
   "cell_type": "code",
   "execution_count": 14,
   "metadata": {
    "scrolled": true
   },
   "outputs": [
    {
     "ename": "SyntaxError",
     "evalue": "unexpected EOF while parsing (<ipython-input-14-f29b6b76ef16>, line 2)",
     "output_type": "error",
     "traceback": [
      "\u001b[1;36m  File \u001b[1;32m\"<ipython-input-14-f29b6b76ef16>\"\u001b[1;36m, line \u001b[1;32m2\u001b[0m\n\u001b[1;33m    # 処理\u001b[0m\n\u001b[1;37m        ^\u001b[0m\n\u001b[1;31mSyntaxError\u001b[0m\u001b[1;31m:\u001b[0m unexpected EOF while parsing\n"
     ]
    }
   ],
   "source": [
    "with open('file.txt') as f:\n",
    "    # 処理"
   ]
  },
  {
   "cell_type": "markdown",
   "metadata": {},
   "source": [
    "# コンテキストマネージャー\n",
    "enter→with内→exitの順番で処理が行われる"
   ]
  },
  {
   "cell_type": "code",
   "execution_count": 18,
   "metadata": {},
   "outputs": [
    {
     "name": "stdout",
     "output_type": "stream",
     "text": [
      "enter\n",
      "with\n",
      "exit\n"
     ]
    }
   ],
   "source": [
    "class ContextManagerTest:\n",
    "    def __enter__(self):\n",
    "        print('enter')\n",
    "    \n",
    "    def __exit__(self, exc_type, exc_value, traceback):\n",
    "        print('exit')\n",
    "        \n",
    "with ContextManagerTest():\n",
    "    print('with')"
   ]
  },
  {
   "cell_type": "code",
   "execution_count": 19,
   "metadata": {},
   "outputs": [
    {
     "name": "stdout",
     "output_type": "stream",
     "text": [
      "enter\n",
      "with\n",
      "exit\n"
     ]
    }
   ],
   "source": [
    "# デコレータを使用する方法（こちらのほうが簡単）\n",
    "from contextlib import contextmanager\n",
    "\n",
    "@contextmanager\n",
    "def contextManagerTest():\n",
    "    print('enter')\n",
    "    yield\n",
    "    print('exit')\n",
    "    \n",
    "with contextManagerTest():\n",
    "    print('with')"
   ]
  },
  {
   "cell_type": "markdown",
   "metadata": {},
   "source": [
    "# property,getter,setter"
   ]
  },
  {
   "cell_type": "code",
   "execution_count": 21,
   "metadata": {},
   "outputs": [
    {
     "name": "stdout",
     "output_type": "stream",
     "text": [
      "setter\n",
      "getter\n",
      "http://aaa\n"
     ]
    }
   ],
   "source": [
    "class Test(object):\n",
    "    \n",
    "    def __init__(self,url):\n",
    "        self._url = url\n",
    "        \n",
    "    @property # propertyとするとgetterになる\n",
    "    def url(self):\n",
    "        print('getter')\n",
    "        return self._url\n",
    "    \n",
    "    @url.setter # setter\n",
    "    def url(self,url):\n",
    "        print('setter')\n",
    "        self._url = url\n",
    "        \n",
    "    @url.deleter # deleter\n",
    "    def url(self):\n",
    "        del self._url\n",
    "        \n",
    "test = Test('http://...')\n",
    "\n",
    "test.url = 'http://aaa'\n",
    "print(test.url)"
   ]
  },
  {
   "cell_type": "code",
   "execution_count": null,
   "metadata": {
    "collapsed": true
   },
   "outputs": [],
   "source": []
  }
 ],
 "metadata": {
  "kernelspec": {
   "display_name": "Python 3",
   "language": "python",
   "name": "python3"
  },
  "language_info": {
   "codemirror_mode": {
    "name": "ipython",
    "version": 3
   },
   "file_extension": ".py",
   "mimetype": "text/x-python",
   "name": "python",
   "nbconvert_exporter": "python",
   "pygments_lexer": "ipython3",
   "version": "3.6.1"
  }
 },
 "nbformat": 4,
 "nbformat_minor": 2
}
